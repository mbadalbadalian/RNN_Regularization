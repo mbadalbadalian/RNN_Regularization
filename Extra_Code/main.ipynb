{
 "cells": [
  {
   "cell_type": "markdown",
   "metadata": {},
   "source": [
    "# 1. Importing Libraries"
   ]
  },
  {
   "cell_type": "code",
   "execution_count": null,
   "metadata": {},
   "outputs": [],
   "source": [
    "import torch\n",
    "import torch.nn as nn\n",
    "import torch.optim as optim\n",
    "import os\n",
    "import re"
   ]
  },
  {
   "cell_type": "markdown",
   "metadata": {},
   "source": [
    "# 2. Define Variable Initializations"
   ]
  },
  {
   "cell_type": "code",
   "execution_count": 4,
   "metadata": {},
   "outputs": [],
   "source": [
    "# Set random seed\n",
    "torch.manual_seed(1234)\n",
    "if torch.cuda.is_available():\n",
    "    torch.cuda.manual_seed(1234)\n",
    "\n",
    "device = torch.device(\"cuda\" if torch.cuda.is_available() else \"cpu\")\n",
    "\n",
    "# Hyperparameters\n",
    "params = {\n",
    "    \"batch_size\": 20,\n",
    "    \"seq_length\": 20,\n",
    "    \"layers\": 2,\n",
    "    \"decay\": 2,\n",
    "    \"rnn_size\": 200,\n",
    "    \"dropout\": 0.0,\n",
    "    \"init_weight\": 0.1,\n",
    "    \"lr\": 1.0,\n",
    "    \"vocab_size\": 10000,\n",
    "    \"max_epoch\": 4,\n",
    "    \"max_max_epoch\": 13,\n",
    "    \"max_grad_norm\": 5,\n",
    "}"
   ]
  },
  {
   "cell_type": "markdown",
   "metadata": {},
   "source": [
    "# 3. Extract and Transform Data"
   ]
  },
  {
   "cell_type": "code",
   "execution_count": 5,
   "metadata": {},
   "outputs": [],
   "source": [
    "ptb_path = \"./data/\"\n",
    "\n",
    "vocab_idx = 0\n",
    "vocab_map = {}"
   ]
  },
  {
   "cell_type": "code",
   "execution_count": 6,
   "metadata": {},
   "outputs": [],
   "source": [
    "def tokenize(text):\n",
    "    \"\"\" Mimic Lua's stringx.split() behavior. \"\"\"\n",
    "    return re.findall(r\"\\S+\", text)  # Split by whitespace but keep everything else intact.\n",
    "\n",
    "def load_data(fname):\n",
    "    global vocab_idx\n",
    "    \n",
    "    print(f\"\\n[Loading Data] File: {fname}\")\n",
    "    \n",
    "    # Read file and replace newlines with <eos>\n",
    "    with open(fname, 'r', encoding='utf-8') as f:\n",
    "        data = f.read()\n",
    "    \n",
    "    data = data.replace('\\n', '<eos>')  # Match Lua behavior\n",
    "    data = data.split()  # Equivalent to stringx.split in Lua\n",
    "            \n",
    "    x = torch.zeros(len(data), dtype=torch.long)\n",
    "    \n",
    "    for i in range(len(data)):\n",
    "        if data[i] not in vocab_map:\n",
    "            vocab_map[data[i]] = vocab_idx\n",
    "            vocab_idx += 1\n",
    "        x[i] = vocab_map[data[i]]\n",
    "    return x\n",
    "\n",
    "def replicate(x_inp, batch_size):\n",
    "    \"\"\" Replicates and shifts data exactly like Lua \"\"\"\n",
    "    s = x_inp.size(0)\n",
    "    x = torch.zeros((s // batch_size, batch_size), dtype=torch.long)\n",
    "\n",
    "    for i in range(batch_size):\n",
    "        start = round(i * s / batch_size)  # Mimic Lua rounding\n",
    "        finish = start + x.size(0)\n",
    "        x[:, i] = x_inp[start:finish]\n",
    "    return x\n",
    "\n",
    "def traindataset(batch_size):\n",
    "    x = load_data(os.path.join(ptb_path, \"ptb.train.txt\"))\n",
    "    x = replicate(x, batch_size)\n",
    "    return x\n",
    "\n",
    "def testdataset(batch_size):\n",
    "    x = load_data(os.path.join(ptb_path, \"ptb.test.txt\"))\n",
    "    x = x.view(-1, 1).expand(-1, batch_size).clone()\n",
    "    return x\n",
    "\n",
    "def validdataset(batch_size):\n",
    "    x = load_data(os.path.join(ptb_path, \"ptb.valid.txt\"))\n",
    "    x = replicate(x, batch_size)\n",
    "    return x\n",
    "\n",
    "datasets = {\n",
    "    \"traindataset\": traindataset,\n",
    "    \"validdataset\": validdataset,\n",
    "    \"testdataset\": testdataset\n",
    "}"
   ]
  },
  {
   "cell_type": "code",
   "execution_count": null,
   "metadata": {},
   "outputs": [
    {
     "name": "stdout",
     "output_type": "stream",
     "text": [
      "\n",
      "[Loading Data] File: ./data/ptb.train.txt\n"
     ]
    }
   ],
   "source": [
    "# Call dataset functions\n",
    "\n",
    "data_train = traindataset(params[\"batch_size\"])\n",
    "data_valid = validdataset(params[\"batch_size\"])\n",
    "data_test = testdataset(params[\"batch_size\"])"
   ]
  },
  {
   "cell_type": "markdown",
   "metadata": {},
   "source": [
    "# 4. LSTM Cell Class "
   ]
  },
  {
   "cell_type": "code",
   "execution_count": 66,
   "metadata": {},
   "outputs": [],
   "source": [
    "# LSTM Cell implementation\n",
    "class LSTMCell(nn.Module):\n",
    "    def __init__(self, input_size, hidden_size):\n",
    "        super(LSTMCell, self).__init__()\n",
    "        self.W = nn.Linear(input_size, 4*hidden_size)\n",
    "        self.U = nn.Linear(hidden_size, 4*hidden_size)\n",
    "    \n",
    "    def forward(self, x, prev_c, prev_h):\n",
    "        gates = self.W(x) + self.U(prev_h)\n",
    "        i, f, o, g = gates.chunk(4, dim=-1)\n",
    "        i, f, o = torch.sigmoid(i), torch.sigmoid(f), torch.sigmoid(o)\n",
    "        g = torch.tanh(g)\n",
    "        next_c = f * prev_c + i * g\n",
    "        next_h = o * torch.tanh(next_c)\n",
    "        return next_c, next_h"
   ]
  },
  {
   "cell_type": "markdown",
   "metadata": {},
   "source": [
    "# 5. LSTM Model"
   ]
  },
  {
   "cell_type": "code",
   "execution_count": 67,
   "metadata": {},
   "outputs": [],
   "source": [
    "# LSTM Model\n",
    "class LSTMModel(nn.Module):\n",
    "    def __init__(self, params):\n",
    "        super(LSTMModel, self).__init__()\n",
    "        self.embedding = nn.Embedding(params[\"vocab_size\"], params[\"rnn_size\"])\n",
    "        self.lstm_cells = nn.ModuleList([\n",
    "            LSTMCell(params[\"rnn_size\"], params[\"rnn_size\"]) for _ in range(params[\"layers\"])\n",
    "        ])\n",
    "        self.fc = nn.Linear(params[\"rnn_size\"], params[\"vocab_size\"])\n",
    "        self.dropout = nn.Dropout(params[\"dropout\"])\n",
    "        self.init_weights()\n",
    "\n",
    "    def init_weights(self):\n",
    "        for param in self.parameters():\n",
    "            param.data.uniform_(-params[\"init_weight\"], params[\"init_weight\"])\n",
    "\n",
    "    def forward(self, x, hidden_states):\n",
    "        x = self.embedding(x)\n",
    "        next_hidden_states = []\n",
    "        for i, cell in enumerate(self.lstm_cells):\n",
    "            prev_c, prev_h = hidden_states[i]\n",
    "            next_c, next_h = cell(x, prev_c, prev_h)\n",
    "            x = next_h  # Input for next layer\n",
    "            next_hidden_states.append((next_c, next_h))\n",
    "        x = self.dropout(x)\n",
    "        x = self.fc(x)\n",
    "        return torch.log_softmax(x, dim=-1), next_hidden_states\n",
    "\n",
    "    def init_hidden(self, batch_size):\n",
    "        return [(torch.zeros(batch_size, params[\"rnn_size\"]).to(device),\n",
    "                 torch.zeros(batch_size, params[\"rnn_size\"]).to(device))\n",
    "                for _ in range(params[\"layers\"])]"
   ]
  },
  {
   "cell_type": "code",
   "execution_count": 68,
   "metadata": {},
   "outputs": [],
   "source": [
    "# Initialize model\n",
    "model = LSTMModel(params).to(device)\n",
    "criterion = nn.NLLLoss()\n",
    "optimizer = optim.SGD(model.parameters(), lr=params[\"lr\"])"
   ]
  },
  {
   "cell_type": "markdown",
   "metadata": {},
   "source": [
    "# 6. Train and Evaluate Model"
   ]
  },
  {
   "cell_type": "code",
   "execution_count": 69,
   "metadata": {},
   "outputs": [],
   "source": [
    "def fp(data, hidden_states):\n",
    "    model.train()\n",
    "    x = data[:-1]\n",
    "    y = data[1:]\n",
    "    x, y = x.to(device), y.to(device)\n",
    "    output, hidden_states = model(x, hidden_states)\n",
    "    loss = criterion(output.view(-1, params[\"vocab_size\"]), y.view(-1))\n",
    "    return loss, hidden_states\n",
    "\n",
    "def bp(loss):\n",
    "    optimizer.zero_grad()\n",
    "    loss.backward()\n",
    "    torch.nn.utils.clip_grad_norm_(model.parameters(), params[\"max_grad_norm\"])\n",
    "    optimizer.step()\n",
    "    import gc\n",
    "    gc.collect()\n",
    "\n",
    "def run_epoch(data):\n",
    "    hidden_states = model.init_hidden(params[\"batch_size\"])\n",
    "    total_loss = 0\n",
    "    num_batches = max(1, data.size(0) // params[\"seq_length\"] - 1)\n",
    "    for batch in range(num_batches):\n",
    "        x = data[batch * params[\"seq_length\"]:(batch + 1) * params[\"seq_length\"]]\n",
    "        y = data[batch * params[\"seq_length\"] + 1:(batch + 1) * params[\"seq_length\"] + 1]\n",
    "        loss, hidden_states = fp(x, hidden_states)\n",
    "        bp(loss)\n",
    "        total_loss += loss.item()\n",
    "        hidden_states = [(c.detach(), h.detach()) for (c, h) in hidden_states]\n",
    "    return torch.exp(torch.tensor(total_loss / num_batches))\n",
    "\n",
    "def evaluate(data):\n",
    "    model.eval()\n",
    "    hidden_states = model.init_hidden(params[\"batch_size\"])\n",
    "    total_loss = 0\n",
    "    num_batches = max(1, data.size(0) // params[\"seq_length\"] - 1)\n",
    "    with torch.no_grad():\n",
    "        for batch in range(num_batches):\n",
    "            x = data[batch * params[\"seq_length\"]:(batch + 1) * params[\"seq_length\"]]\n",
    "            y = data[batch * params[\"seq_length\"] + 1:(batch + 1) * params[\"seq_length\"] + 1]\n",
    "            loss, hidden_states = fp(x, hidden_states)\n",
    "            total_loss += loss.item()\n",
    "            hidden_states = [(c.detach(), h.detach()) for (c, h) in hidden_states]\n",
    "    return torch.exp(torch.tensor(total_loss / num_batches))"
   ]
  },
  {
   "cell_type": "code",
   "execution_count": 70,
   "metadata": {},
   "outputs": [
    {
     "name": "stdout",
     "output_type": "stream",
     "text": [
      "Epoch 1, Train PPL: 698.44, Valid PPL: 535.17\n",
      "Epoch 2, Train PPL: 436.04, Valid PPL: 406.21\n",
      "Epoch 3, Train PPL: 349.09, Valid PPL: 348.87\n"
     ]
    },
    {
     "ename": "KeyboardInterrupt",
     "evalue": "",
     "output_type": "error",
     "traceback": [
      "\u001b[31m---------------------------------------------------------------------------\u001b[39m",
      "\u001b[31mKeyboardInterrupt\u001b[39m                         Traceback (most recent call last)",
      "\u001b[36mCell\u001b[39m\u001b[36m \u001b[39m\u001b[32mIn[70]\u001b[39m\u001b[32m, line 3\u001b[39m\n\u001b[32m      1\u001b[39m \u001b[38;5;66;03m# Training loop\u001b[39;00m\n\u001b[32m      2\u001b[39m \u001b[38;5;28;01mfor\u001b[39;00m epoch \u001b[38;5;129;01min\u001b[39;00m \u001b[38;5;28mrange\u001b[39m(params[\u001b[33m\"\u001b[39m\u001b[33mmax_max_epoch\u001b[39m\u001b[33m\"\u001b[39m]):\n\u001b[32m----> \u001b[39m\u001b[32m3\u001b[39m     train_ppl = \u001b[43mrun_epoch\u001b[49m\u001b[43m(\u001b[49m\u001b[43mdata_train\u001b[49m\u001b[43m)\u001b[49m\n\u001b[32m      4\u001b[39m     valid_ppl = evaluate(data_valid)\n\u001b[32m      5\u001b[39m     \u001b[38;5;28mprint\u001b[39m(\u001b[33mf\u001b[39m\u001b[33m\"\u001b[39m\u001b[33mEpoch \u001b[39m\u001b[38;5;132;01m{\u001b[39;00mepoch+\u001b[32m1\u001b[39m\u001b[38;5;132;01m}\u001b[39;00m\u001b[33m, Train PPL: \u001b[39m\u001b[38;5;132;01m{\u001b[39;00mtrain_ppl\u001b[38;5;132;01m:\u001b[39;00m\u001b[33m.2f\u001b[39m\u001b[38;5;132;01m}\u001b[39;00m\u001b[33m, Valid PPL: \u001b[39m\u001b[38;5;132;01m{\u001b[39;00mvalid_ppl\u001b[38;5;132;01m:\u001b[39;00m\u001b[33m.2f\u001b[39m\u001b[38;5;132;01m}\u001b[39;00m\u001b[33m\"\u001b[39m)\n",
      "\u001b[36mCell\u001b[39m\u001b[36m \u001b[39m\u001b[32mIn[69]\u001b[39m\u001b[32m, line 25\u001b[39m, in \u001b[36mrun_epoch\u001b[39m\u001b[34m(data)\u001b[39m\n\u001b[32m     23\u001b[39m x = data[batch * params[\u001b[33m\"\u001b[39m\u001b[33mseq_length\u001b[39m\u001b[33m\"\u001b[39m]:(batch + \u001b[32m1\u001b[39m) * params[\u001b[33m\"\u001b[39m\u001b[33mseq_length\u001b[39m\u001b[33m\"\u001b[39m]]\n\u001b[32m     24\u001b[39m y = data[batch * params[\u001b[33m\"\u001b[39m\u001b[33mseq_length\u001b[39m\u001b[33m\"\u001b[39m] + \u001b[32m1\u001b[39m:(batch + \u001b[32m1\u001b[39m) * params[\u001b[33m\"\u001b[39m\u001b[33mseq_length\u001b[39m\u001b[33m\"\u001b[39m] + \u001b[32m1\u001b[39m]\n\u001b[32m---> \u001b[39m\u001b[32m25\u001b[39m loss, hidden_states = \u001b[43mfp\u001b[49m\u001b[43m(\u001b[49m\u001b[43mx\u001b[49m\u001b[43m,\u001b[49m\u001b[43m \u001b[49m\u001b[43mhidden_states\u001b[49m\u001b[43m)\u001b[49m\n\u001b[32m     26\u001b[39m bp(loss)\n\u001b[32m     27\u001b[39m total_loss += loss.item()\n",
      "\u001b[36mCell\u001b[39m\u001b[36m \u001b[39m\u001b[32mIn[69]\u001b[39m\u001b[32m, line 6\u001b[39m, in \u001b[36mfp\u001b[39m\u001b[34m(data, hidden_states)\u001b[39m\n\u001b[32m      4\u001b[39m y = data[\u001b[32m1\u001b[39m:]\n\u001b[32m      5\u001b[39m x, y = x.to(device), y.to(device)\n\u001b[32m----> \u001b[39m\u001b[32m6\u001b[39m output, hidden_states = \u001b[43mmodel\u001b[49m\u001b[43m(\u001b[49m\u001b[43mx\u001b[49m\u001b[43m,\u001b[49m\u001b[43m \u001b[49m\u001b[43mhidden_states\u001b[49m\u001b[43m)\u001b[49m\n\u001b[32m      7\u001b[39m loss = criterion(output.view(-\u001b[32m1\u001b[39m, params[\u001b[33m\"\u001b[39m\u001b[33mvocab_size\u001b[39m\u001b[33m\"\u001b[39m]), y.view(-\u001b[32m1\u001b[39m))\n\u001b[32m      8\u001b[39m \u001b[38;5;28;01mreturn\u001b[39;00m loss, hidden_states\n",
      "\u001b[36mFile \u001b[39m\u001b[32mc:\\Users\\matth\\OneDrive - University of Waterloo\\Documents\\Python Files\\Environments\\RNN_Dropout_VENV\\Lib\\site-packages\\torch\\nn\\modules\\module.py:1739\u001b[39m, in \u001b[36mModule._wrapped_call_impl\u001b[39m\u001b[34m(self, *args, **kwargs)\u001b[39m\n\u001b[32m   1737\u001b[39m     \u001b[38;5;28;01mreturn\u001b[39;00m \u001b[38;5;28mself\u001b[39m._compiled_call_impl(*args, **kwargs)  \u001b[38;5;66;03m# type: ignore[misc]\u001b[39;00m\n\u001b[32m   1738\u001b[39m \u001b[38;5;28;01melse\u001b[39;00m:\n\u001b[32m-> \u001b[39m\u001b[32m1739\u001b[39m     \u001b[38;5;28;01mreturn\u001b[39;00m \u001b[38;5;28;43mself\u001b[39;49m\u001b[43m.\u001b[49m\u001b[43m_call_impl\u001b[49m\u001b[43m(\u001b[49m\u001b[43m*\u001b[49m\u001b[43margs\u001b[49m\u001b[43m,\u001b[49m\u001b[43m \u001b[49m\u001b[43m*\u001b[49m\u001b[43m*\u001b[49m\u001b[43mkwargs\u001b[49m\u001b[43m)\u001b[49m\n",
      "\u001b[36mFile \u001b[39m\u001b[32mc:\\Users\\matth\\OneDrive - University of Waterloo\\Documents\\Python Files\\Environments\\RNN_Dropout_VENV\\Lib\\site-packages\\torch\\nn\\modules\\module.py:1750\u001b[39m, in \u001b[36mModule._call_impl\u001b[39m\u001b[34m(self, *args, **kwargs)\u001b[39m\n\u001b[32m   1745\u001b[39m \u001b[38;5;66;03m# If we don't have any hooks, we want to skip the rest of the logic in\u001b[39;00m\n\u001b[32m   1746\u001b[39m \u001b[38;5;66;03m# this function, and just call forward.\u001b[39;00m\n\u001b[32m   1747\u001b[39m \u001b[38;5;28;01mif\u001b[39;00m \u001b[38;5;129;01mnot\u001b[39;00m (\u001b[38;5;28mself\u001b[39m._backward_hooks \u001b[38;5;129;01mor\u001b[39;00m \u001b[38;5;28mself\u001b[39m._backward_pre_hooks \u001b[38;5;129;01mor\u001b[39;00m \u001b[38;5;28mself\u001b[39m._forward_hooks \u001b[38;5;129;01mor\u001b[39;00m \u001b[38;5;28mself\u001b[39m._forward_pre_hooks\n\u001b[32m   1748\u001b[39m         \u001b[38;5;129;01mor\u001b[39;00m _global_backward_pre_hooks \u001b[38;5;129;01mor\u001b[39;00m _global_backward_hooks\n\u001b[32m   1749\u001b[39m         \u001b[38;5;129;01mor\u001b[39;00m _global_forward_hooks \u001b[38;5;129;01mor\u001b[39;00m _global_forward_pre_hooks):\n\u001b[32m-> \u001b[39m\u001b[32m1750\u001b[39m     \u001b[38;5;28;01mreturn\u001b[39;00m \u001b[43mforward_call\u001b[49m\u001b[43m(\u001b[49m\u001b[43m*\u001b[49m\u001b[43margs\u001b[49m\u001b[43m,\u001b[49m\u001b[43m \u001b[49m\u001b[43m*\u001b[49m\u001b[43m*\u001b[49m\u001b[43mkwargs\u001b[49m\u001b[43m)\u001b[49m\n\u001b[32m   1752\u001b[39m result = \u001b[38;5;28;01mNone\u001b[39;00m\n\u001b[32m   1753\u001b[39m called_always_called_hooks = \u001b[38;5;28mset\u001b[39m()\n",
      "\u001b[36mCell\u001b[39m\u001b[36m \u001b[39m\u001b[32mIn[67]\u001b[39m\u001b[32m, line 22\u001b[39m, in \u001b[36mLSTMModel.forward\u001b[39m\u001b[34m(self, x, hidden_states)\u001b[39m\n\u001b[32m     20\u001b[39m \u001b[38;5;28;01mfor\u001b[39;00m i, cell \u001b[38;5;129;01min\u001b[39;00m \u001b[38;5;28menumerate\u001b[39m(\u001b[38;5;28mself\u001b[39m.lstm_cells):\n\u001b[32m     21\u001b[39m     prev_c, prev_h = hidden_states[i]\n\u001b[32m---> \u001b[39m\u001b[32m22\u001b[39m     next_c, next_h = \u001b[43mcell\u001b[49m\u001b[43m(\u001b[49m\u001b[43mx\u001b[49m\u001b[43m,\u001b[49m\u001b[43m \u001b[49m\u001b[43mprev_c\u001b[49m\u001b[43m,\u001b[49m\u001b[43m \u001b[49m\u001b[43mprev_h\u001b[49m\u001b[43m)\u001b[49m\n\u001b[32m     23\u001b[39m     x = next_h  \u001b[38;5;66;03m# Input for next layer\u001b[39;00m\n\u001b[32m     24\u001b[39m     next_hidden_states.append((next_c, next_h))\n",
      "\u001b[36mFile \u001b[39m\u001b[32mc:\\Users\\matth\\OneDrive - University of Waterloo\\Documents\\Python Files\\Environments\\RNN_Dropout_VENV\\Lib\\site-packages\\torch\\nn\\modules\\module.py:1739\u001b[39m, in \u001b[36mModule._wrapped_call_impl\u001b[39m\u001b[34m(self, *args, **kwargs)\u001b[39m\n\u001b[32m   1737\u001b[39m     \u001b[38;5;28;01mreturn\u001b[39;00m \u001b[38;5;28mself\u001b[39m._compiled_call_impl(*args, **kwargs)  \u001b[38;5;66;03m# type: ignore[misc]\u001b[39;00m\n\u001b[32m   1738\u001b[39m \u001b[38;5;28;01melse\u001b[39;00m:\n\u001b[32m-> \u001b[39m\u001b[32m1739\u001b[39m     \u001b[38;5;28;01mreturn\u001b[39;00m \u001b[38;5;28;43mself\u001b[39;49m\u001b[43m.\u001b[49m\u001b[43m_call_impl\u001b[49m\u001b[43m(\u001b[49m\u001b[43m*\u001b[49m\u001b[43margs\u001b[49m\u001b[43m,\u001b[49m\u001b[43m \u001b[49m\u001b[43m*\u001b[49m\u001b[43m*\u001b[49m\u001b[43mkwargs\u001b[49m\u001b[43m)\u001b[49m\n",
      "\u001b[36mFile \u001b[39m\u001b[32mc:\\Users\\matth\\OneDrive - University of Waterloo\\Documents\\Python Files\\Environments\\RNN_Dropout_VENV\\Lib\\site-packages\\torch\\nn\\modules\\module.py:1750\u001b[39m, in \u001b[36mModule._call_impl\u001b[39m\u001b[34m(self, *args, **kwargs)\u001b[39m\n\u001b[32m   1745\u001b[39m \u001b[38;5;66;03m# If we don't have any hooks, we want to skip the rest of the logic in\u001b[39;00m\n\u001b[32m   1746\u001b[39m \u001b[38;5;66;03m# this function, and just call forward.\u001b[39;00m\n\u001b[32m   1747\u001b[39m \u001b[38;5;28;01mif\u001b[39;00m \u001b[38;5;129;01mnot\u001b[39;00m (\u001b[38;5;28mself\u001b[39m._backward_hooks \u001b[38;5;129;01mor\u001b[39;00m \u001b[38;5;28mself\u001b[39m._backward_pre_hooks \u001b[38;5;129;01mor\u001b[39;00m \u001b[38;5;28mself\u001b[39m._forward_hooks \u001b[38;5;129;01mor\u001b[39;00m \u001b[38;5;28mself\u001b[39m._forward_pre_hooks\n\u001b[32m   1748\u001b[39m         \u001b[38;5;129;01mor\u001b[39;00m _global_backward_pre_hooks \u001b[38;5;129;01mor\u001b[39;00m _global_backward_hooks\n\u001b[32m   1749\u001b[39m         \u001b[38;5;129;01mor\u001b[39;00m _global_forward_hooks \u001b[38;5;129;01mor\u001b[39;00m _global_forward_pre_hooks):\n\u001b[32m-> \u001b[39m\u001b[32m1750\u001b[39m     \u001b[38;5;28;01mreturn\u001b[39;00m \u001b[43mforward_call\u001b[49m\u001b[43m(\u001b[49m\u001b[43m*\u001b[49m\u001b[43margs\u001b[49m\u001b[43m,\u001b[49m\u001b[43m \u001b[49m\u001b[43m*\u001b[49m\u001b[43m*\u001b[49m\u001b[43mkwargs\u001b[49m\u001b[43m)\u001b[49m\n\u001b[32m   1752\u001b[39m result = \u001b[38;5;28;01mNone\u001b[39;00m\n\u001b[32m   1753\u001b[39m called_always_called_hooks = \u001b[38;5;28mset\u001b[39m()\n",
      "\u001b[36mCell\u001b[39m\u001b[36m \u001b[39m\u001b[32mIn[66]\u001b[39m\u001b[32m, line 9\u001b[39m, in \u001b[36mLSTMCell.forward\u001b[39m\u001b[34m(self, x, prev_c, prev_h)\u001b[39m\n\u001b[32m      8\u001b[39m \u001b[38;5;28;01mdef\u001b[39;00m\u001b[38;5;250m \u001b[39m\u001b[34mforward\u001b[39m(\u001b[38;5;28mself\u001b[39m, x, prev_c, prev_h):\n\u001b[32m----> \u001b[39m\u001b[32m9\u001b[39m     gates = \u001b[38;5;28;43mself\u001b[39;49m\u001b[43m.\u001b[49m\u001b[43mW\u001b[49m\u001b[43m(\u001b[49m\u001b[43mx\u001b[49m\u001b[43m)\u001b[49m + \u001b[38;5;28mself\u001b[39m.U(prev_h)\n\u001b[32m     10\u001b[39m     i, f, o, g = gates.chunk(\u001b[32m4\u001b[39m, dim=-\u001b[32m1\u001b[39m)\n\u001b[32m     11\u001b[39m     i, f, o = torch.sigmoid(i), torch.sigmoid(f), torch.sigmoid(o)\n",
      "\u001b[36mFile \u001b[39m\u001b[32mc:\\Users\\matth\\OneDrive - University of Waterloo\\Documents\\Python Files\\Environments\\RNN_Dropout_VENV\\Lib\\site-packages\\torch\\nn\\modules\\module.py:1739\u001b[39m, in \u001b[36mModule._wrapped_call_impl\u001b[39m\u001b[34m(self, *args, **kwargs)\u001b[39m\n\u001b[32m   1737\u001b[39m     \u001b[38;5;28;01mreturn\u001b[39;00m \u001b[38;5;28mself\u001b[39m._compiled_call_impl(*args, **kwargs)  \u001b[38;5;66;03m# type: ignore[misc]\u001b[39;00m\n\u001b[32m   1738\u001b[39m \u001b[38;5;28;01melse\u001b[39;00m:\n\u001b[32m-> \u001b[39m\u001b[32m1739\u001b[39m     \u001b[38;5;28;01mreturn\u001b[39;00m \u001b[38;5;28;43mself\u001b[39;49m\u001b[43m.\u001b[49m\u001b[43m_call_impl\u001b[49m\u001b[43m(\u001b[49m\u001b[43m*\u001b[49m\u001b[43margs\u001b[49m\u001b[43m,\u001b[49m\u001b[43m \u001b[49m\u001b[43m*\u001b[49m\u001b[43m*\u001b[49m\u001b[43mkwargs\u001b[49m\u001b[43m)\u001b[49m\n",
      "\u001b[36mFile \u001b[39m\u001b[32mc:\\Users\\matth\\OneDrive - University of Waterloo\\Documents\\Python Files\\Environments\\RNN_Dropout_VENV\\Lib\\site-packages\\torch\\nn\\modules\\module.py:1750\u001b[39m, in \u001b[36mModule._call_impl\u001b[39m\u001b[34m(self, *args, **kwargs)\u001b[39m\n\u001b[32m   1745\u001b[39m \u001b[38;5;66;03m# If we don't have any hooks, we want to skip the rest of the logic in\u001b[39;00m\n\u001b[32m   1746\u001b[39m \u001b[38;5;66;03m# this function, and just call forward.\u001b[39;00m\n\u001b[32m   1747\u001b[39m \u001b[38;5;28;01mif\u001b[39;00m \u001b[38;5;129;01mnot\u001b[39;00m (\u001b[38;5;28mself\u001b[39m._backward_hooks \u001b[38;5;129;01mor\u001b[39;00m \u001b[38;5;28mself\u001b[39m._backward_pre_hooks \u001b[38;5;129;01mor\u001b[39;00m \u001b[38;5;28mself\u001b[39m._forward_hooks \u001b[38;5;129;01mor\u001b[39;00m \u001b[38;5;28mself\u001b[39m._forward_pre_hooks\n\u001b[32m   1748\u001b[39m         \u001b[38;5;129;01mor\u001b[39;00m _global_backward_pre_hooks \u001b[38;5;129;01mor\u001b[39;00m _global_backward_hooks\n\u001b[32m   1749\u001b[39m         \u001b[38;5;129;01mor\u001b[39;00m _global_forward_hooks \u001b[38;5;129;01mor\u001b[39;00m _global_forward_pre_hooks):\n\u001b[32m-> \u001b[39m\u001b[32m1750\u001b[39m     \u001b[38;5;28;01mreturn\u001b[39;00m \u001b[43mforward_call\u001b[49m\u001b[43m(\u001b[49m\u001b[43m*\u001b[49m\u001b[43margs\u001b[49m\u001b[43m,\u001b[49m\u001b[43m \u001b[49m\u001b[43m*\u001b[49m\u001b[43m*\u001b[49m\u001b[43mkwargs\u001b[49m\u001b[43m)\u001b[49m\n\u001b[32m   1752\u001b[39m result = \u001b[38;5;28;01mNone\u001b[39;00m\n\u001b[32m   1753\u001b[39m called_always_called_hooks = \u001b[38;5;28mset\u001b[39m()\n",
      "\u001b[36mFile \u001b[39m\u001b[32mc:\\Users\\matth\\OneDrive - University of Waterloo\\Documents\\Python Files\\Environments\\RNN_Dropout_VENV\\Lib\\site-packages\\torch\\nn\\modules\\linear.py:125\u001b[39m, in \u001b[36mLinear.forward\u001b[39m\u001b[34m(self, input)\u001b[39m\n\u001b[32m    124\u001b[39m \u001b[38;5;28;01mdef\u001b[39;00m\u001b[38;5;250m \u001b[39m\u001b[34mforward\u001b[39m(\u001b[38;5;28mself\u001b[39m, \u001b[38;5;28minput\u001b[39m: Tensor) -> Tensor:\n\u001b[32m--> \u001b[39m\u001b[32m125\u001b[39m     \u001b[38;5;28;01mreturn\u001b[39;00m \u001b[43mF\u001b[49m\u001b[43m.\u001b[49m\u001b[43mlinear\u001b[49m\u001b[43m(\u001b[49m\u001b[38;5;28;43minput\u001b[39;49m\u001b[43m,\u001b[49m\u001b[43m \u001b[49m\u001b[38;5;28;43mself\u001b[39;49m\u001b[43m.\u001b[49m\u001b[43mweight\u001b[49m\u001b[43m,\u001b[49m\u001b[43m \u001b[49m\u001b[38;5;28;43mself\u001b[39;49m\u001b[43m.\u001b[49m\u001b[43mbias\u001b[49m\u001b[43m)\u001b[49m\n",
      "\u001b[31mKeyboardInterrupt\u001b[39m: "
     ]
    }
   ],
   "source": [
    "# Training loop\n",
    "for epoch in range(params[\"max_max_epoch\"]):\n",
    "    train_ppl = run_epoch(data_train)\n",
    "    valid_ppl = evaluate(data_valid)\n",
    "    print(f\"Epoch {epoch+1}, Train PPL: {train_ppl:.2f}, Valid PPL: {valid_ppl:.2f}\")\n",
    "    if epoch > params[\"max_epoch\"]:\n",
    "        params[\"lr\"] /= params[\"decay\"]\n",
    "\n",
    "# Test evaluation\n",
    "test_ppl = evaluate(data_test)\n",
    "print(f\"Test PPL: {test_ppl:.2f}\")"
   ]
  }
 ],
 "metadata": {
  "kernelspec": {
   "display_name": "RNN_Dropout_VENV",
   "language": "python",
   "name": "python3"
  },
  "language_info": {
   "codemirror_mode": {
    "name": "ipython",
    "version": 3
   },
   "file_extension": ".py",
   "mimetype": "text/x-python",
   "name": "python",
   "nbconvert_exporter": "python",
   "pygments_lexer": "ipython3",
   "version": "3.11.9"
  }
 },
 "nbformat": 4,
 "nbformat_minor": 2
}
