{
 "cells": [
  {
   "cell_type": "markdown",
   "metadata": {},
   "source": [
    "# 1. Importing Libraries"
   ]
  },
  {
   "cell_type": "code",
   "execution_count": 30,
   "metadata": {},
   "outputs": [],
   "source": [
    "import torch\n",
    "import torch.nn as nn\n",
    "import torch.optim as optim\n",
    "import numpy as np\n",
    "from collections import OrderedDict\n",
    "import os\n",
    "import math\n",
    "import re\n",
    "import io"
   ]
  },
  {
   "cell_type": "markdown",
   "metadata": {},
   "source": [
    "# 2. Define Variable Initializations"
   ]
  },
  {
   "cell_type": "code",
   "execution_count": 31,
   "metadata": {},
   "outputs": [],
   "source": [
    "# Set random seed\n",
    "torch.manual_seed(1234)\n",
    "if torch.cuda.is_available():\n",
    "    torch.cuda.manual_seed(1234)\n",
    "\n",
    "device = torch.device(\"cuda\" if torch.cuda.is_available() else \"cpu\")\n",
    "\n",
    "# Hyperparameters\n",
    "params = {\n",
    "    \"batch_size\": 20,\n",
    "    \"seq_length\": 20,\n",
    "    \"layers\": 2,\n",
    "    \"decay\": 2,\n",
    "    \"rnn_size\": 200,\n",
    "    \"dropout\": 0.0,\n",
    "    \"init_weight\": 0.1,\n",
    "    \"lr\": 1.0,\n",
    "    \"vocab_size\": 10000,\n",
    "    \"max_epoch\": 4,\n",
    "    \"max_max_epoch\": 13,\n",
    "    \"max_grad_norm\": 5,\n",
    "}"
   ]
  },
  {
   "cell_type": "markdown",
   "metadata": {},
   "source": [
    "# 3. Extract and Transform Data"
   ]
  },
  {
   "cell_type": "code",
   "execution_count": 32,
   "metadata": {},
   "outputs": [],
   "source": [
    "ptb_path = \"./data/\"\n",
    "\n",
    "vocab_idx = 0\n",
    "vocab_map = {}"
   ]
  },
  {
   "cell_type": "code",
   "execution_count": 33,
   "metadata": {},
   "outputs": [],
   "source": [
    "def tokenize(text):\n",
    "    \"\"\" Mimic Lua's stringx.split() behavior. \"\"\"\n",
    "    return re.findall(r\"\\S+\", text)  # Split by whitespace but keep everything else intact.\n",
    "\n",
    "def load_data(fname):\n",
    "    global vocab_idx\n",
    "    \n",
    "    print(f\"\\n[Loading Data] File: {fname}\")\n",
    "    \n",
    "    # Read file and replace newlines with <eos>\n",
    "    with open(fname, 'r', encoding='utf-8') as f:\n",
    "        data = f.read()\n",
    "    \n",
    "    data = data.replace('\\n', '<eos>')  # Match Lua behavior\n",
    "    data = data.split()  # Equivalent to stringx.split in Lua\n",
    "            \n",
    "    x = torch.zeros(len(data), dtype=torch.long)\n",
    "    \n",
    "    for i in range(len(data)):\n",
    "        if data[i] not in vocab_map:\n",
    "            vocab_idx += 1\n",
    "            vocab_map[data[i]] = vocab_idx\n",
    "        x[i] = vocab_map[data[i]]\n",
    "    return x\n",
    "\n",
    "def replicate(x_inp, batch_size):\n",
    "    \"\"\" Replicates and shifts data exactly like Lua \"\"\"\n",
    "    s = x_inp.size(0)\n",
    "    x = torch.zeros((s // batch_size, batch_size), dtype=torch.long)\n",
    "\n",
    "    for i in range(batch_size):\n",
    "        start = round(i * s / batch_size)  # Mimic Lua rounding\n",
    "        finish = start + x.size(0)\n",
    "        x[:, i] = x_inp[start:finish]\n",
    "    return x\n",
    "\n",
    "def traindataset(batch_size):\n",
    "    x = load_data(os.path.join(ptb_path, \"ptb.train.txt\"))\n",
    "    x = replicate(x, batch_size)\n",
    "    return x\n",
    "\n",
    "def testdataset(batch_size):\n",
    "    x = load_data(os.path.join(ptb_path, \"ptb.test.txt\"))\n",
    "    x = x.view(-1, 1).expand(-1, batch_size).clone()\n",
    "    return x\n",
    "\n",
    "def validdataset(batch_size):\n",
    "    x = load_data(os.path.join(ptb_path, \"ptb.valid.txt\"))\n",
    "    x = replicate(x, batch_size)\n",
    "    return x\n",
    "\n",
    "datasets = {\n",
    "    \"traindataset\": traindataset,\n",
    "    \"validdataset\": validdataset,\n",
    "    \"testdataset\": testdataset\n",
    "}"
   ]
  },
  {
   "cell_type": "code",
   "execution_count": 34,
   "metadata": {},
   "outputs": [
    {
     "name": "stdout",
     "output_type": "stream",
     "text": [
      "\n",
      "[Loading Data] File: ./data/ptb.train.txt\n",
      "\n",
      "[Loading Data] File: ./data/ptb.valid.txt\n",
      "\n",
      "[Loading Data] File: ./data/ptb.test.txt\n"
     ]
    }
   ],
   "source": [
    "# Call dataset functions\n",
    "\n",
    "data_train = traindataset(params[\"batch_size\"])\n",
    "data_valid = validdataset(params[\"batch_size\"])\n",
    "data_test = testdataset(params[\"batch_size\"])"
   ]
  },
  {
   "cell_type": "markdown",
   "metadata": {},
   "source": [
    "# 4. LSTM Cell Class "
   ]
  },
  {
   "cell_type": "code",
   "execution_count": 35,
   "metadata": {},
   "outputs": [],
   "source": [
    "# LSTM Cell implementation\n",
    "class LSTMCell(nn.Module):\n",
    "    def __init__(self, input_size, hidden_size):\n",
    "        super(LSTMCell, self).__init__()\n",
    "        self.W = nn.Linear(input_size, 4*hidden_size)\n",
    "        self.U = nn.Linear(hidden_size, 4*hidden_size)\n",
    "    \n",
    "    def forward(self, x, prev_c, prev_h):\n",
    "        gates = self.W(x) + self.U(prev_h)\n",
    "        i, f, o, g = gates.chunk(4, dim=-1)\n",
    "        i, f, o = torch.sigmoid(i), torch.sigmoid(f), torch.sigmoid(o)\n",
    "        g = torch.tanh(g)\n",
    "        next_c = f * prev_c + i * g\n",
    "        next_h = o * torch.tanh(next_c)\n",
    "        return next_c, next_h"
   ]
  },
  {
   "cell_type": "markdown",
   "metadata": {},
   "source": [
    "# 5. LSTM Model"
   ]
  },
  {
   "cell_type": "code",
   "execution_count": 36,
   "metadata": {},
   "outputs": [],
   "source": [
    "# LSTM Model\n",
    "class LSTMModel(nn.Module):\n",
    "    def __init__(self, params):\n",
    "        super(LSTMModel, self).__init__()\n",
    "        self.embedding = nn.Embedding(params[\"vocab_size\"], params[\"rnn_size\"])\n",
    "        self.lstm_cells = nn.ModuleList([\n",
    "            LSTMCell(params[\"rnn_size\"], params[\"rnn_size\"]) for _ in range(params[\"layers\"])\n",
    "        ])\n",
    "        self.fc = nn.Linear(params[\"rnn_size\"], params[\"vocab_size\"])\n",
    "        self.dropout = nn.Dropout(params[\"dropout\"])\n",
    "        self.init_weights()\n",
    "\n",
    "    def init_weights(self):\n",
    "        for param in self.parameters():\n",
    "            param.data.uniform_(-params[\"init_weight\"], params[\"init_weight\"])\n",
    "\n",
    "    def forward(self, x, hidden_states):\n",
    "        x = self.embedding(x)\n",
    "        next_hidden_states = []\n",
    "        for i, cell in enumerate(self.lstm_cells):\n",
    "            prev_c, prev_h = hidden_states[i]\n",
    "            next_c, next_h = cell(x, prev_c, prev_h)\n",
    "            x = next_h  # Input for next layer\n",
    "            next_hidden_states.append((next_c, next_h))\n",
    "        x = self.dropout(x)\n",
    "        x = self.fc(x)\n",
    "        return torch.log_softmax(x, dim=-1), next_hidden_states\n",
    "\n",
    "    def init_hidden(self, batch_size):\n",
    "        return [(torch.zeros(batch_size, params[\"rnn_size\"]).to(device),\n",
    "                 torch.zeros(batch_size, params[\"rnn_size\"]).to(device))\n",
    "                for _ in range(params[\"layers\"])]"
   ]
  },
  {
   "cell_type": "code",
   "execution_count": 37,
   "metadata": {},
   "outputs": [],
   "source": [
    "# Initialize model\n",
    "model = LSTMModel(params).to(device)\n",
    "criterion = nn.NLLLoss()\n",
    "optimizer = optim.SGD(model.parameters(), lr=params[\"lr\"])"
   ]
  },
  {
   "cell_type": "markdown",
   "metadata": {},
   "source": [
    "# 6. Train and Evaluate Model"
   ]
  },
  {
   "cell_type": "code",
   "execution_count": 38,
   "metadata": {},
   "outputs": [],
   "source": [
    "def g_disable_dropout(node):\n",
    "    if isinstance(node, list) and not hasattr(node, \"__typename\"):\n",
    "        for i in range(len(node)):\n",
    "            g_disable_dropout(node[i])\n",
    "        return\n",
    "    if hasattr(node, \"__typename\") and re.match(\"Dropout\", node.__typename):\n",
    "        node.train = False\n",
    "\n",
    "def g_enable_dropout(node):\n",
    "    if isinstance(node, list) and not hasattr(node, \"__typename\"):\n",
    "        for i in range(len(node)):\n",
    "            g_enable_dropout(node[i])\n",
    "        return\n",
    "    if hasattr(node, \"__typename\") and re.match(\"Dropout\", node.__typename):\n",
    "        node.train = True\n",
    "\n",
    "def g_clone_many_times(net, T):\n",
    "    clones = []\n",
    "    params, grad_params = net.parameters()\n",
    "    mem = io.BytesIO()\n",
    "    torch.save(net, mem)\n",
    "    for t in range(T):\n",
    "        mem.seek(0)  # Reset buffer pointer like MemoryFile\n",
    "        clone = torch.load(mem)\n",
    "        clone_params, clone_grad_params = clone.parameters()\n",
    "        for i in range(len(params)):\n",
    "            clone_params[i].data.set_(params[i].data)\n",
    "            clone_grad_params[i].data.set_(grad_params[i].data)\n",
    "        clones.append(clone)\n",
    "        torch.cuda.empty_cache()\n",
    "    return clones\n",
    "\n",
    "def g_init_gpu(args):\n",
    "    gpuidx = args[0] if args else 1\n",
    "    print(\"Using {}-th gpu\".format(gpuidx))\n",
    "    torch.cuda.set_device(gpuidx - 1)  # Match Lua 1-based indexing\n",
    "    g_make_deterministic(1)\n",
    "\n",
    "def g_make_deterministic(seed):\n",
    "    torch.manual_seed(seed)\n",
    "    torch.cuda.manual_seed(seed)\n",
    "    torch.cuda.FloatTensor(1, 1).uniform_()\n",
    "\n",
    "def g_replace_table(to, from_):\n",
    "    assert len(to) == len(from_)\n",
    "    for i in range(len(to)):\n",
    "        to[i].copy_(from_[i])\n",
    "\n",
    "def g_f3(f):\n",
    "    return \"{:.3f}\".format(f)\n",
    "\n",
    "def g_d(f):\n",
    "    return \"{}\".format(int(round(f)))"
   ]
  },
  {
   "cell_type": "code",
   "execution_count": null,
   "metadata": {},
   "outputs": [],
   "source": [
    "def fp(data, hidden_states):\n",
    "    model.train()\n",
    "    x = data[:-1]\n",
    "    y = data[1:]\n",
    "    x, y = x.to(device), y.to(device)\n",
    "    output, hidden_states = model(x, hidden_states)\n",
    "    loss = criterion(output.view(-1, params[\"vocab_size\"]), y.view(-1))\n",
    "    return loss, hidden_states\n",
    "\n",
    "def bp(loss):\n",
    "    optimizer.zero_grad()\n",
    "    loss.backward()\n",
    "    torch.nn.utils.clip_grad_norm_(model.parameters(), params[\"max_grad_norm\"])\n",
    "    optimizer.step()\n",
    "    import gc\n",
    "    gc.collect()\n",
    "\n",
    "def run_epoch(data):\n",
    "    hidden_states = model.init_hidden(params[\"batch_size\"])\n",
    "    total_loss = 0\n",
    "    num_batches = max(1, data.size(0) // params[\"seq_length\"] - 1)\n",
    "    for batch in range(num_batches):\n",
    "        x = data[batch * params[\"seq_length\"]:(batch + 1) * params[\"seq_length\"]]\n",
    "        y = data[batch * params[\"seq_length\"] + 1:(batch + 1) * params[\"seq_length\"] + 1]\n",
    "        loss, hidden_states = fp(x, hidden_states)\n",
    "        bp(loss)\n",
    "        total_loss += loss.item()\n",
    "        hidden_states = [(c.detach(), h.detach()) for (c, h) in hidden_states]\n",
    "    return torch.exp(torch.tensor(total_loss / num_batches))\n",
    "\n",
    "def evaluate(data):\n",
    "    model.eval()\n",
    "    hidden_states = model.init_hidden(params[\"batch_size\"])\n",
    "    total_loss = 0\n",
    "    num_batches = max(1, data.size(0) // params[\"seq_length\"] - 1)\n",
    "    with torch.no_grad():\n",
    "        for batch in range(num_batches):\n",
    "            x = data[batch * params[\"seq_length\"]:(batch + 1) * params[\"seq_length\"]]\n",
    "            y = data[batch * params[\"seq_length\"] + 1:(batch + 1) * params[\"seq_length\"] + 1]\n",
    "            loss, hidden_states = fp(x, hidden_states)\n",
    "            total_loss += loss.item()\n",
    "            hidden_states = [(c.detach(), h.detach()) for (c, h) in hidden_states]\n",
    "    return torch.exp(torch.tensor(total_loss / num_batches))"
   ]
  },
  {
   "cell_type": "code",
   "execution_count": 40,
   "metadata": {},
   "outputs": [
    {
     "ename": "AssertionError",
     "evalue": "Torch not compiled with CUDA enabled",
     "output_type": "error",
     "traceback": [
      "\u001b[31m---------------------------------------------------------------------------\u001b[39m",
      "\u001b[31mAssertionError\u001b[39m                            Traceback (most recent call last)",
      "\u001b[36mCell\u001b[39m\u001b[36m \u001b[39m\u001b[32mIn[40]\u001b[39m\u001b[32m, line 3\u001b[39m\n\u001b[32m      1\u001b[39m \u001b[38;5;66;03m# Training loop\u001b[39;00m\n\u001b[32m      2\u001b[39m \u001b[38;5;28;01mfor\u001b[39;00m epoch \u001b[38;5;129;01min\u001b[39;00m \u001b[38;5;28mrange\u001b[39m(params[\u001b[33m\"\u001b[39m\u001b[33mmax_max_epoch\u001b[39m\u001b[33m\"\u001b[39m]):\n\u001b[32m----> \u001b[39m\u001b[32m3\u001b[39m     train_ppl = \u001b[43mrun_epoch\u001b[49m\u001b[43m(\u001b[49m\u001b[43mdata_train\u001b[49m\u001b[43m)\u001b[49m\n\u001b[32m      4\u001b[39m     valid_ppl = evaluate(data_valid)\n\u001b[32m      5\u001b[39m     \u001b[38;5;28mprint\u001b[39m(\u001b[33mf\u001b[39m\u001b[33m\"\u001b[39m\u001b[33mEpoch \u001b[39m\u001b[38;5;132;01m{\u001b[39;00mepoch+\u001b[32m1\u001b[39m\u001b[38;5;132;01m}\u001b[39;00m\u001b[33m, Train PPL: \u001b[39m\u001b[38;5;132;01m{\u001b[39;00mtrain_ppl\u001b[38;5;132;01m:\u001b[39;00m\u001b[33m.2f\u001b[39m\u001b[38;5;132;01m}\u001b[39;00m\u001b[33m, Valid PPL: \u001b[39m\u001b[38;5;132;01m{\u001b[39;00mvalid_ppl\u001b[38;5;132;01m:\u001b[39;00m\u001b[33m.2f\u001b[39m\u001b[38;5;132;01m}\u001b[39;00m\u001b[33m\"\u001b[39m)\n",
      "\u001b[36mCell\u001b[39m\u001b[36m \u001b[39m\u001b[32mIn[39]\u001b[39m\u001b[32m, line 27\u001b[39m, in \u001b[36mrun_epoch\u001b[39m\u001b[34m(data)\u001b[39m\n\u001b[32m     25\u001b[39m y = data[batch * params[\u001b[33m\"\u001b[39m\u001b[33mseq_length\u001b[39m\u001b[33m\"\u001b[39m] + \u001b[32m1\u001b[39m:(batch + \u001b[32m1\u001b[39m) * params[\u001b[33m\"\u001b[39m\u001b[33mseq_length\u001b[39m\u001b[33m\"\u001b[39m] + \u001b[32m1\u001b[39m]\n\u001b[32m     26\u001b[39m loss, hidden_states = fp(x, hidden_states)\n\u001b[32m---> \u001b[39m\u001b[32m27\u001b[39m \u001b[43mbp\u001b[49m\u001b[43m(\u001b[49m\u001b[43mloss\u001b[49m\u001b[43m)\u001b[49m\n\u001b[32m     28\u001b[39m total_loss += loss.item()\n\u001b[32m     29\u001b[39m hidden_states = [(c.detach(), h.detach()) \u001b[38;5;28;01mfor\u001b[39;00m (c, h) \u001b[38;5;129;01min\u001b[39;00m hidden_states]\n",
      "\u001b[36mCell\u001b[39m\u001b[36m \u001b[39m\u001b[32mIn[39]\u001b[39m\u001b[32m, line 15\u001b[39m, in \u001b[36mbp\u001b[39m\u001b[34m(loss)\u001b[39m\n\u001b[32m     13\u001b[39m torch.nn.utils.clip_grad_norm_(model.parameters(), params[\u001b[33m\"\u001b[39m\u001b[33mmax_grad_norm\u001b[39m\u001b[33m\"\u001b[39m])\n\u001b[32m     14\u001b[39m optimizer.step()\n\u001b[32m---> \u001b[39m\u001b[32m15\u001b[39m \u001b[43mtorch\u001b[49m\u001b[43m.\u001b[49m\u001b[43mcuda\u001b[49m\u001b[43m.\u001b[49m\u001b[43msynchronize\u001b[49m\u001b[43m(\u001b[49m\u001b[43m)\u001b[49m\n\u001b[32m     16\u001b[39m \u001b[38;5;28;01mimport\u001b[39;00m\u001b[38;5;250m \u001b[39m\u001b[34;01mgc\u001b[39;00m\n\u001b[32m     17\u001b[39m gc.collect()\n",
      "\u001b[36mFile \u001b[39m\u001b[32mc:\\Users\\matth\\OneDrive - University of Waterloo\\Documents\\Python Files\\Environments\\RNN_Dropout_VENV\\Lib\\site-packages\\torch\\cuda\\__init__.py:983\u001b[39m, in \u001b[36msynchronize\u001b[39m\u001b[34m(device)\u001b[39m\n\u001b[32m    975\u001b[39m \u001b[38;5;28;01mdef\u001b[39;00m\u001b[38;5;250m \u001b[39m\u001b[34msynchronize\u001b[39m(device: _device_t = \u001b[38;5;28;01mNone\u001b[39;00m) -> \u001b[38;5;28;01mNone\u001b[39;00m:\n\u001b[32m    976\u001b[39m \u001b[38;5;250m    \u001b[39m\u001b[33mr\u001b[39m\u001b[33;03m\"\"\"Wait for all kernels in all streams on a CUDA device to complete.\u001b[39;00m\n\u001b[32m    977\u001b[39m \n\u001b[32m    978\u001b[39m \u001b[33;03m    Args:\u001b[39;00m\n\u001b[32m   (...)\u001b[39m\u001b[32m    981\u001b[39m \u001b[33;03m            if :attr:`device` is ``None`` (default).\u001b[39;00m\n\u001b[32m    982\u001b[39m \u001b[33;03m    \"\"\"\u001b[39;00m\n\u001b[32m--> \u001b[39m\u001b[32m983\u001b[39m     \u001b[43m_lazy_init\u001b[49m\u001b[43m(\u001b[49m\u001b[43m)\u001b[49m\n\u001b[32m    984\u001b[39m     \u001b[38;5;28;01mwith\u001b[39;00m torch.cuda.device(device):\n\u001b[32m    985\u001b[39m         \u001b[38;5;28;01mreturn\u001b[39;00m torch._C._cuda_synchronize()\n",
      "\u001b[36mFile \u001b[39m\u001b[32mc:\\Users\\matth\\OneDrive - University of Waterloo\\Documents\\Python Files\\Environments\\RNN_Dropout_VENV\\Lib\\site-packages\\torch\\cuda\\__init__.py:310\u001b[39m, in \u001b[36m_lazy_init\u001b[39m\u001b[34m()\u001b[39m\n\u001b[32m    305\u001b[39m     \u001b[38;5;28;01mraise\u001b[39;00m \u001b[38;5;167;01mRuntimeError\u001b[39;00m(\n\u001b[32m    306\u001b[39m         \u001b[33m\"\u001b[39m\u001b[33mCannot re-initialize CUDA in forked subprocess. To use CUDA with \u001b[39m\u001b[33m\"\u001b[39m\n\u001b[32m    307\u001b[39m         \u001b[33m\"\u001b[39m\u001b[33mmultiprocessing, you must use the \u001b[39m\u001b[33m'\u001b[39m\u001b[33mspawn\u001b[39m\u001b[33m'\u001b[39m\u001b[33m start method\u001b[39m\u001b[33m\"\u001b[39m\n\u001b[32m    308\u001b[39m     )\n\u001b[32m    309\u001b[39m \u001b[38;5;28;01mif\u001b[39;00m \u001b[38;5;129;01mnot\u001b[39;00m \u001b[38;5;28mhasattr\u001b[39m(torch._C, \u001b[33m\"\u001b[39m\u001b[33m_cuda_getDeviceCount\u001b[39m\u001b[33m\"\u001b[39m):\n\u001b[32m--> \u001b[39m\u001b[32m310\u001b[39m     \u001b[38;5;28;01mraise\u001b[39;00m \u001b[38;5;167;01mAssertionError\u001b[39;00m(\u001b[33m\"\u001b[39m\u001b[33mTorch not compiled with CUDA enabled\u001b[39m\u001b[33m\"\u001b[39m)\n\u001b[32m    311\u001b[39m \u001b[38;5;28;01mif\u001b[39;00m _cudart \u001b[38;5;129;01mis\u001b[39;00m \u001b[38;5;28;01mNone\u001b[39;00m:\n\u001b[32m    312\u001b[39m     \u001b[38;5;28;01mraise\u001b[39;00m \u001b[38;5;167;01mAssertionError\u001b[39;00m(\n\u001b[32m    313\u001b[39m         \u001b[33m\"\u001b[39m\u001b[33mlibcudart functions unavailable. It looks like you have a broken build?\u001b[39m\u001b[33m\"\u001b[39m\n\u001b[32m    314\u001b[39m     )\n",
      "\u001b[31mAssertionError\u001b[39m: Torch not compiled with CUDA enabled"
     ]
    }
   ],
   "source": [
    "# Training loop\n",
    "for epoch in range(params[\"max_max_epoch\"]):\n",
    "    train_ppl = run_epoch(data_train)\n",
    "    valid_ppl = evaluate(data_valid)\n",
    "    print(f\"Epoch {epoch+1}, Train PPL: {train_ppl:.2f}, Valid PPL: {valid_ppl:.2f}\")\n",
    "    if epoch > params[\"max_epoch\"]:\n",
    "        params[\"lr\"] /= params[\"decay\"]\n",
    "\n",
    "# Test evaluation\n",
    "test_ppl = evaluate(data_test)\n",
    "print(f\"Test PPL: {test_ppl:.2f}\")"
   ]
  }
 ],
 "metadata": {
  "kernelspec": {
   "display_name": "RNN_Dropout_VENV",
   "language": "python",
   "name": "python3"
  },
  "language_info": {
   "codemirror_mode": {
    "name": "ipython",
    "version": 3
   },
   "file_extension": ".py",
   "mimetype": "text/x-python",
   "name": "python",
   "nbconvert_exporter": "python",
   "pygments_lexer": "ipython3",
   "version": "3.11.9"
  }
 },
 "nbformat": 4,
 "nbformat_minor": 2
}
