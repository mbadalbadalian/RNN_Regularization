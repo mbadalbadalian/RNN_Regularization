{
 "cells": [
  {
   "cell_type": "markdown",
   "metadata": {},
   "source": [
    "# 1. Libraries and Additional Functions"
   ]
  },
  {
   "cell_type": "code",
   "execution_count": 298,
   "metadata": {},
   "outputs": [],
   "source": [
    "import torch\n",
    "import torch.nn as nn\n",
    "import torch.optim as optim\n",
    "from datasets import load_dataset\n",
    "from collections import Counter\n",
    "import re,os,pickle,gc\n",
    "import numpy as np\n",
    "import matplotlib.pyplot as plt"
   ]
  },
  {
   "cell_type": "code",
   "execution_count": 299,
   "metadata": {},
   "outputs": [],
   "source": [
    "def save_PKL(curr_DICT,path):\n",
    "    with open(path, 'wb') as file:\n",
    "        pickle.dump(curr_DICT, file)\n",
    "    return curr_DICT\n",
    "\n",
    "def load_PKL(path):\n",
    "    with open(path, 'rb') as file:\n",
    "        curr_DICT = pickle.load(file)\n",
    "    return curr_DICT\n",
    "\n",
    "def setup_device():\n",
    "    device = torch.device(\"cuda:0\" if torch.cuda.is_available() else \"cpu\")\n",
    "    return device"
   ]
  },
  {
   "cell_type": "markdown",
   "metadata": {},
   "source": [
    "# 2. Define Variable Initializations"
   ]
  },
  {
   "cell_type": "code",
   "execution_count": 300,
   "metadata": {},
   "outputs": [],
   "source": [
    "# Set random seed\n",
    "torch.manual_seed(1234)\n",
    "if torch.cuda.is_available():\n",
    "    torch.cuda.manual_seed(1234)\n",
    "\n",
    "device = torch.device(\"cuda\" if torch.cuda.is_available() else \"cpu\")\n",
    "\n",
    "# Hyperparameters\n",
    "params_unregularized = {\n",
    "    \"model_name\": \"lang_model_LSTM_unregularized\",\n",
    "    \"save_interval\": 10,\n",
    "    \"batch_size\": 20,\n",
    "    \"seq_length\": 20,\n",
    "    \"layers\": 2,\n",
    "    \"decay\": 2,\n",
    "    \"rnn_size\": 200,\n",
    "    \"dropout\": 0.0,\n",
    "    \"init_weight\": 0.1,\n",
    "    \"lr\": 1.0,\n",
    "    \"vocab_size\": 12000,\n",
    "    \"max_epoch\": 4,\n",
    "    \"max_max_epoch\": 13,\n",
    "    \"max_grad_norm\": 5,\n",
    "}"
   ]
  },
  {
   "cell_type": "code",
   "execution_count": 301,
   "metadata": {},
   "outputs": [],
   "source": [
    "params_regularized = {\n",
    "    \"model_name\": \"lang_model_LSTM_regularized\",\n",
    "    \"save_interval\": 10,\n",
    "    \"batch_size\": 20,\n",
    "    \"seq_length\": 35,\n",
    "    \"layers\": 2,\n",
    "    \"decay\": 1.2,\n",
    "    \"rnn_size\": 650,\n",
    "    \"dropout\": 0.5,\n",
    "    \"init_weight\": 0.05,\n",
    "    \"lr\": 1.0,\n",
    "    \"vocab_size\": 12000,\n",
    "    \"max_epoch\": 6,\n",
    "    \"max_max_epoch\": 39,\n",
    "    \"max_grad_norm\": 5,\n",
    "}\n"
   ]
  },
  {
   "cell_type": "markdown",
   "metadata": {},
   "source": [
    "# 3. Extract and Transform Data"
   ]
  },
  {
   "cell_type": "code",
   "execution_count": 302,
   "metadata": {},
   "outputs": [],
   "source": [
    "def build_vocab(data, vocab_size):\n",
    "    word_freq = Counter(data)\n",
    "    vocab_map = {word: idx for idx, (word, _) in enumerate(word_freq.most_common(vocab_size - 1))}\n",
    "    vocab_map['<unk>'] = len(vocab_map)  # Add <unk> token\n",
    "    return vocab_map\n",
    "\n",
    "def load_data(dataset, data_type, params):\n",
    "    raw_text = dataset[data_type][\"text\"][0]  # Use dataset object directly\n",
    "\n",
    "    # Text preprocessing\n",
    "    raw_text = raw_text.lower()\n",
    "    raw_text = raw_text.replace(\"\\n\", \" <eos> \")\n",
    "    raw_text = re.sub(r\"[,!?;:]\", \"\", raw_text)  # Remove unwanted punctuation\n",
    "    raw_text = raw_text.replace(\"--\", \" --\")  # Preserve dashes\n",
    "    raw_text = raw_text.replace(\"'\", \" '\")  # Preserve apostrophes\n",
    "    words = raw_text.split()\n",
    "\n",
    "    vocab_map = build_vocab(words, params[\"vocab_size\"])\n",
    "    x = torch.tensor([vocab_map.get(word, vocab_map['<unk>']) for word in words], dtype=torch.long)\n",
    "    return x, vocab_map\n",
    "\n",
    "def replicate(x_inp, batch_size):\n",
    "    s = x_inp.size(0)\n",
    "    seq_len = s // batch_size\n",
    "    return x_inp[:seq_len * batch_size].view(batch_size, seq_len).t().contiguous()  # Efficient reshape\n",
    "\n",
    "def getdatasets(params):\n",
    "    dataset = load_dataset(\"tiny_shakespeare\", trust_remote_code=True)\n",
    "\n",
    "    data_train, vocab_map = load_data(dataset, \"train\", params)\n",
    "    data_valid, _ = load_data(dataset, \"validation\", params)\n",
    "    data_test, _ = load_data(dataset, \"test\", params)\n",
    "\n",
    "    # Batch processing\n",
    "    data_train = replicate(data_train, params[\"batch_size\"])\n",
    "    data_valid = replicate(data_valid, params[\"batch_size\"])\n",
    "    data_test = data_test.view(-1, 1).expand(-1, params[\"batch_size\"]).clone()\n",
    "\n",
    "    return data_train, data_valid, data_test, vocab_map\n"
   ]
  },
  {
   "cell_type": "code",
   "execution_count": 303,
   "metadata": {},
   "outputs": [],
   "source": [
    "# Call dataset functions\n",
    "data_train_unregularized, data_valid_unregularized, data_test_unregularized, vocab_map_unregularized = getdatasets(params_unregularized)"
   ]
  },
  {
   "cell_type": "code",
   "execution_count": 304,
   "metadata": {},
   "outputs": [],
   "source": [
    "data_train_regularized, data_valid_regularized, data_test_regularized, vocab_map_regularized = getdatasets(params_regularized)"
   ]
  },
  {
   "cell_type": "markdown",
   "metadata": {},
   "source": [
    "# 4. LSTM Cell Class "
   ]
  },
  {
   "cell_type": "code",
   "execution_count": 305,
   "metadata": {},
   "outputs": [],
   "source": [
    "class LSTMCell(nn.Module):\n",
    "    def __init__(self, input_size, hidden_size):\n",
    "        super(LSTMCell, self).__init__()\n",
    "        self.W = nn.Linear(input_size, 4*hidden_size)\n",
    "        self.U = nn.Linear(hidden_size, 4*hidden_size)\n",
    "    \n",
    "    def forward(self, x, prev_c, prev_h):\n",
    "        gates = self.W(x) + self.U(prev_h)\n",
    "        i, f, o, g = gates.chunk(4, dim=-1)\n",
    "        i, f, o = torch.sigmoid(i), torch.sigmoid(f), torch.sigmoid(o)\n",
    "        g = torch.tanh(g)\n",
    "        next_c = f * prev_c + i * g\n",
    "        next_h = o * torch.tanh(next_c)\n",
    "        return next_c, next_h"
   ]
  },
  {
   "cell_type": "markdown",
   "metadata": {},
   "source": [
    "# 5. LSTM Model"
   ]
  },
  {
   "cell_type": "code",
   "execution_count": 306,
   "metadata": {},
   "outputs": [],
   "source": [
    "class LSTMModel(nn.Module):\n",
    "    def __init__(self, params):\n",
    "        super(LSTMModel, self).__init__()\n",
    "        self.embedding = nn.Embedding(params[\"vocab_size\"], params[\"rnn_size\"])\n",
    "        self.lstm_cells = nn.ModuleList([\n",
    "            LSTMCell(params[\"rnn_size\"], params[\"rnn_size\"]) for _ in range(params[\"layers\"])\n",
    "        ])\n",
    "        self.fc = nn.Linear(params[\"rnn_size\"], params[\"vocab_size\"])\n",
    "        self.dropout = nn.Dropout(params[\"dropout\"])\n",
    "        self.init_weights(params)\n",
    "        \n",
    "    def init_weights(self, params):\n",
    "        for param in self.parameters():\n",
    "            param.data.uniform_(-params[\"init_weight\"], params[\"init_weight\"])\n",
    "    \n",
    "    def forward(self, x, hidden_states):\n",
    "        x = self.embedding(x)\n",
    "        next_hidden_states = []\n",
    "        for i, cell in enumerate(self.lstm_cells):\n",
    "            prev_c, prev_h = hidden_states[i]\n",
    "            next_c, next_h = cell(x, prev_c, prev_h)\n",
    "            x = next_h  # Input for next layer\n",
    "            next_hidden_states.append((next_c, next_h))\n",
    "        x = self.dropout(x)\n",
    "        x = self.fc(x)\n",
    "        return torch.log_softmax(x, dim=-1), next_hidden_states       \n",
    "\n",
    "    def init_hidden(self, params, device):\n",
    "        h_0 = torch.zeros(params[\"layers\"], params[\"batch_size\"], params[\"rnn_size\"]).to(device)\n",
    "        c_0 = torch.zeros(params[\"layers\"], params[\"batch_size\"], params[\"rnn_size\"]).to(device)\n",
    "        return (h_0, c_0)\n",
    "        \n",
    "    def save(self, params, epoch_num, metrics_DICT, best_model=False):\n",
    "        model_path = f\"models/{params['model_name']}_best.pth\" if best_model else f\"models/{params['model_name']}_epoch_{epoch_num + 1}.pth\"\n",
    "        metrics_path = f\"data/output_data/{params['model_name']}_best.pkl\" if best_model else f\"data/output_data/{params['model_name']}_epoch_{epoch_num + 1}.pkl\"\n",
    "\n",
    "        torch.save(self.state_dict(), model_path)\n",
    "        save_PKL(metrics_DICT, metrics_path)\n",
    "\n",
    "def check_and_load_model(params, epoch_num, best_model=False, load_model=True):\n",
    "    model_path = f\"models/{params['model_name']}_best.pth\" if best_model else f\"models/{params['model_name']}_epoch_{epoch_num + 1}.pth\"\n",
    "    metrics_path = f\"data/output_data/{params['model_name']}_best.pkl\" if best_model else f\"data/output_data/{params['model_name']}_epoch_{epoch_num + 1}.pkl\"\n",
    "\n",
    "    model = LSTMModel(params)\n",
    "    \n",
    "    if os.path.exists(model_path) and load_model:\n",
    "        model.load_state_dict(torch.load(model_path))\n",
    "        metrics_DICT = load_PKL(metrics_path) if os.path.exists(metrics_path) else {}\n",
    "    else:\n",
    "        metrics_DICT = {\"epoch_list\": [], \"train_ppl\": [], \"valid_ppl\": [], \"test_ppl\": 0, \"best_valid_ppl\": np.inf}\n",
    "\n",
    "    device = setup_device()\n",
    "    model.to(device)\n",
    "    \n",
    "    return model, metrics_DICT"
   ]
  },
  {
   "cell_type": "code",
   "execution_count": 307,
   "metadata": {},
   "outputs": [],
   "source": [
    "# Initialize model\n",
    "device = torch.device(\"cuda\" if torch.cuda.is_available() else \"cpu\")\n",
    "\n",
    "epoch_num_unregularized = 0\n",
    "criterion = nn.NLLLoss()\n",
    "model_unregularized,metrics_unregularized_DICT = check_and_load_model(params_unregularized,epoch_num_unregularized)\n",
    "optimizer_unregularized = optim.SGD(model_unregularized.parameters(), lr=params_unregularized[\"lr\"])"
   ]
  },
  {
   "cell_type": "code",
   "execution_count": 308,
   "metadata": {},
   "outputs": [],
   "source": [
    "# Initialize model\n",
    "epoch_num_regularized = 0\n",
    "model_regularized,metrics_regularized_DICT = check_and_load_model(params_regularized,epoch_num_regularized)\n",
    "optimizer_regularized = optim.SGD(model_regularized.parameters(), lr=params_regularized[\"lr\"])"
   ]
  },
  {
   "cell_type": "markdown",
   "metadata": {},
   "source": [
    "# 6. Train and Evaluate Model"
   ]
  },
  {
   "cell_type": "code",
   "execution_count": null,
   "metadata": {},
   "outputs": [],
   "source": [
    "def fp(data, model, params, hidden_states):\n",
    "    model.train()\n",
    "    x = data[:-1]\n",
    "    y = data[1:]\n",
    "    x, y = x.to(device), y.to(device)\n",
    "    output, hidden_states = model(x,hidden_states)\n",
    "    output = output.view(-1, params[\"vocab_size\"])\n",
    "    y = y.view(-1)\n",
    "    loss = criterion(output, y)\n",
    "    return loss, hidden_states\n",
    "\n",
    "def bp(loss, model, params, optimizer):\n",
    "    optimizer.zero_grad()\n",
    "    loss.backward()\n",
    "    torch.nn.utils.clip_grad_norm_(model.parameters(), params[\"max_grad_norm\"])\n",
    "    optimizer.step()\n",
    "    gc.collect()\n",
    "\n",
    "def run_epoch(data, model, params, optimizer,device):\n",
    "    hidden_states = model.init_hidden(params,device)\n",
    "    total_loss = 0\n",
    "    num_batches = max(1, data.size(0) // params[\"seq_length\"] - 1)\n",
    "    for batch in range(num_batches):\n",
    "        x = data[batch * params[\"seq_length\"]:(batch + 1) * params[\"seq_length\"]]\n",
    "        y = data[batch * params[\"seq_length\"] + 1:(batch + 1) * params[\"seq_length\"] + 1]\n",
    "        loss, hidden_states = fp(x, model, params, hidden_states)\n",
    "        bp(loss, model, params, optimizer)\n",
    "        total_loss += loss.item()\n",
    "        hidden_states = [(c.detach(), h.detach()) for (c, h) in hidden_states]\n",
    "    average_loss = total_loss/num_batches\n",
    "    return torch.exp(torch.tensor(average_loss))\n",
    "\n",
    "def train(data_train, data_valid, model, metrics_DICT, params, optimizer, device):\n",
    "    epoch_list = metrics_DICT.get(\"epoch_list\", [])\n",
    "    train_ppl_list = metrics_DICT.get(\"train_ppl\", [])\n",
    "    valid_ppl_list = metrics_DICT.get(\"valid_ppl\", [])\n",
    "    best_val_ppl = metrics_DICT.get(\"best_valid_ppl\", np.inf)\n",
    "    \n",
    "    curr_epoch = len(epoch_list)\n",
    "    max_num_epochs = params[\"max_max_epoch\"]\n",
    "    for epoch in range(curr_epoch, max_num_epochs):\n",
    "        train_ppl = run_epoch(data_train, model, params, optimizer, device)\n",
    "        valid_ppl = evaluate(data_valid, model, metrics_DICT, params, eval_state=False)[0]\n",
    "\n",
    "        print(f'Epoch {epoch + 1}/{max_num_epochs}, Train PPL: {train_ppl:.4f}, Val PPL: {valid_ppl:.4f}')\n",
    "        epoch_list.append(epoch + 1)\n",
    "        train_ppl_list.append(train_ppl)\n",
    "        valid_ppl_list.append(valid_ppl)\n",
    "\n",
    "        if epoch > params[\"max_epoch\"]:\n",
    "            for param_group in optimizer.param_groups:\n",
    "                param_group['lr'] /= params[\"decay\"]\n",
    "\n",
    "        if (epoch + 1) % params[\"save_interval\"] == 0 or epoch == max_num_epochs - 1:\n",
    "            metrics_DICT.update({\n",
    "                \"epoch_list\": epoch_list.copy(),\n",
    "                \"train_ppl\": train_ppl_list.copy(),\n",
    "                \"valid_ppl\": valid_ppl_list.copy()\n",
    "            })\n",
    "            model.save(params, epoch, metrics_DICT)\n",
    "\n",
    "        if valid_ppl < best_val_ppl:\n",
    "            best_val_ppl = valid_ppl\n",
    "            metrics_DICT.update({\n",
    "                \"best_valid_ppl\": best_val_ppl,\n",
    "                \"best_epoch\": epoch + 1\n",
    "            })\n",
    "            model.save(params, epoch, metrics_DICT, best_model=True)\n",
    "\n",
    "    return model, params, metrics_DICT\n",
    "\n",
    "def evaluate(data, model, metrics_DICT, params, device, eval_state=True, best_model=False):\n",
    "    model.eval()\n",
    "    hidden_states = model.init_hidden(params,device)\n",
    "    total_loss = 0\n",
    "    num_batches = max(1, data.size(0) // params[\"seq_length\"] - 1)\n",
    "\n",
    "    with torch.no_grad():\n",
    "        for batch in range(num_batches):\n",
    "            x = data[batch * params[\"seq_length\"]:(batch + 1) * params[\"seq_length\"]]\n",
    "            y = data[batch * params[\"seq_length\"] + 1:(batch + 1) * params[\"seq_length\"] + 1]\n",
    "\n",
    "            loss, hidden_states = fp(x, model, params, hidden_states)\n",
    "            total_loss += loss.item()\n",
    "            hidden_states = [(c.detach(), h.detach()) for (c, h) in hidden_states]\n",
    "\n",
    "    eval_ppl = torch.exp(torch.tensor(total_loss / num_batches, dtype=torch.float32))\n",
    "    print(f\"Test PPL: {eval_ppl:.2f}\")\n",
    "    metrics_DICT[\"test_ppl\"] = eval_ppl.item()\n",
    "\n",
    "    if eval_state:\n",
    "        epoch = metrics_DICT.get(\"best_epoch\", len(metrics_DICT[\"epoch_list\"]))\n",
    "        model.save(params, epoch, metrics_DICT, best_model)\n",
    "\n",
    "    return eval_ppl, metrics_DICT"
   ]
  },
  {
   "cell_type": "code",
   "execution_count": null,
   "metadata": {},
   "outputs": [
    {
     "ename": "KeyboardInterrupt",
     "evalue": "",
     "output_type": "error",
     "traceback": [
      "\u001b[31m---------------------------------------------------------------------------\u001b[39m",
      "\u001b[31mKeyboardInterrupt\u001b[39m                         Traceback (most recent call last)",
      "\u001b[36mCell\u001b[39m\u001b[36m \u001b[39m\u001b[32mIn[310]\u001b[39m\u001b[32m, line 2\u001b[39m\n\u001b[32m      1\u001b[39m \u001b[38;5;66;03m# Training loop\u001b[39;00m\n\u001b[32m----> \u001b[39m\u001b[32m2\u001b[39m model_unregularized, metrics_unregularized_DICT = \u001b[43mtrain\u001b[49m\u001b[43m(\u001b[49m\u001b[43mdata_train_unregularized\u001b[49m\u001b[43m,\u001b[49m\u001b[43m \u001b[49m\u001b[43mdata_valid_unregularized\u001b[49m\u001b[43m,\u001b[49m\u001b[43m \u001b[49m\u001b[43mmodel_unregularized\u001b[49m\u001b[43m,\u001b[49m\u001b[43m \u001b[49m\u001b[43mmetrics_unregularized_DICT\u001b[49m\u001b[43m,\u001b[49m\u001b[43m \u001b[49m\u001b[43mparams_unregularized\u001b[49m\u001b[43m,\u001b[49m\u001b[43m \u001b[49m\u001b[43moptimizer_unregularized\u001b[49m\u001b[43m,\u001b[49m\u001b[43m \u001b[49m\u001b[43mdevice\u001b[49m\u001b[43m)\u001b[49m\n\u001b[32m      4\u001b[39m \u001b[38;5;66;03m# Evaluation loop\u001b[39;00m\n\u001b[32m      5\u001b[39m best_model=\u001b[38;5;28;01mTrue\u001b[39;00m\n",
      "\u001b[36mCell\u001b[39m\u001b[36m \u001b[39m\u001b[32mIn[309]\u001b[39m\u001b[32m, line 42\u001b[39m, in \u001b[36mtrain\u001b[39m\u001b[34m(data_train, data_valid, model, metrics_DICT, params, optimizer, device)\u001b[39m\n\u001b[32m     40\u001b[39m max_num_epochs = params[\u001b[33m\"\u001b[39m\u001b[33mmax_max_epoch\u001b[39m\u001b[33m\"\u001b[39m]\n\u001b[32m     41\u001b[39m \u001b[38;5;28;01mfor\u001b[39;00m epoch \u001b[38;5;129;01min\u001b[39;00m \u001b[38;5;28mrange\u001b[39m(curr_epoch, max_num_epochs):\n\u001b[32m---> \u001b[39m\u001b[32m42\u001b[39m     train_ppl = \u001b[43mrun_epoch\u001b[49m\u001b[43m(\u001b[49m\u001b[43mdata_train\u001b[49m\u001b[43m,\u001b[49m\u001b[43m \u001b[49m\u001b[43mmodel\u001b[49m\u001b[43m,\u001b[49m\u001b[43m \u001b[49m\u001b[43mparams\u001b[49m\u001b[43m,\u001b[49m\u001b[43m \u001b[49m\u001b[43moptimizer\u001b[49m\u001b[43m,\u001b[49m\u001b[43m \u001b[49m\u001b[43mdevice\u001b[49m\u001b[43m)\u001b[49m\n\u001b[32m     43\u001b[39m     valid_ppl = evaluate(data_valid, model, metrics_DICT, params, eval_state=\u001b[38;5;28;01mFalse\u001b[39;00m)[\u001b[32m0\u001b[39m]\n\u001b[32m     45\u001b[39m     \u001b[38;5;28mprint\u001b[39m(\u001b[33mf\u001b[39m\u001b[33m'\u001b[39m\u001b[33mEpoch \u001b[39m\u001b[38;5;132;01m{\u001b[39;00mepoch\u001b[38;5;250m \u001b[39m+\u001b[38;5;250m \u001b[39m\u001b[32m1\u001b[39m\u001b[38;5;132;01m}\u001b[39;00m\u001b[33m/\u001b[39m\u001b[38;5;132;01m{\u001b[39;00mmax_num_epochs\u001b[38;5;132;01m}\u001b[39;00m\u001b[33m, Train PPL: \u001b[39m\u001b[38;5;132;01m{\u001b[39;00mtrain_ppl\u001b[38;5;132;01m:\u001b[39;00m\u001b[33m.4f\u001b[39m\u001b[38;5;132;01m}\u001b[39;00m\u001b[33m, Val PPL: \u001b[39m\u001b[38;5;132;01m{\u001b[39;00mvalid_ppl\u001b[38;5;132;01m:\u001b[39;00m\u001b[33m.4f\u001b[39m\u001b[38;5;132;01m}\u001b[39;00m\u001b[33m'\u001b[39m)\n",
      "\u001b[36mCell\u001b[39m\u001b[36m \u001b[39m\u001b[32mIn[309]\u001b[39m\u001b[32m, line 26\u001b[39m, in \u001b[36mrun_epoch\u001b[39m\u001b[34m(data, model, params, optimizer, device)\u001b[39m\n\u001b[32m     24\u001b[39m x = data[batch * params[\u001b[33m\"\u001b[39m\u001b[33mseq_length\u001b[39m\u001b[33m\"\u001b[39m]:(batch + \u001b[32m1\u001b[39m) * params[\u001b[33m\"\u001b[39m\u001b[33mseq_length\u001b[39m\u001b[33m\"\u001b[39m]]\n\u001b[32m     25\u001b[39m y = data[batch * params[\u001b[33m\"\u001b[39m\u001b[33mseq_length\u001b[39m\u001b[33m\"\u001b[39m] + \u001b[32m1\u001b[39m:(batch + \u001b[32m1\u001b[39m) * params[\u001b[33m\"\u001b[39m\u001b[33mseq_length\u001b[39m\u001b[33m\"\u001b[39m] + \u001b[32m1\u001b[39m]\n\u001b[32m---> \u001b[39m\u001b[32m26\u001b[39m loss, hidden_states = \u001b[43mfp\u001b[49m\u001b[43m(\u001b[49m\u001b[43mx\u001b[49m\u001b[43m,\u001b[49m\u001b[43m \u001b[49m\u001b[43mmodel\u001b[49m\u001b[43m,\u001b[49m\u001b[43m \u001b[49m\u001b[43mparams\u001b[49m\u001b[43m,\u001b[49m\u001b[43m \u001b[49m\u001b[43mhidden_states\u001b[49m\u001b[43m)\u001b[49m\n\u001b[32m     27\u001b[39m bp(loss, model, params, optimizer)\n\u001b[32m     28\u001b[39m total_loss += loss.item()\n",
      "\u001b[36mCell\u001b[39m\u001b[36m \u001b[39m\u001b[32mIn[309]\u001b[39m\u001b[32m, line 6\u001b[39m, in \u001b[36mfp\u001b[39m\u001b[34m(data, model, params, hidden_states)\u001b[39m\n\u001b[32m      4\u001b[39m y = data[\u001b[32m1\u001b[39m:]\n\u001b[32m      5\u001b[39m x, y = x.to(device), y.to(device)\n\u001b[32m----> \u001b[39m\u001b[32m6\u001b[39m output, hidden_states = \u001b[43mmodel\u001b[49m\u001b[43m(\u001b[49m\u001b[43mx\u001b[49m\u001b[43m,\u001b[49m\u001b[43mhidden_states\u001b[49m\u001b[43m)\u001b[49m\n\u001b[32m      7\u001b[39m output = output.view(-\u001b[32m1\u001b[39m, params[\u001b[33m\"\u001b[39m\u001b[33mvocab_size\u001b[39m\u001b[33m\"\u001b[39m])\n\u001b[32m      8\u001b[39m y = y.view(-\u001b[32m1\u001b[39m)\n",
      "\u001b[36mFile \u001b[39m\u001b[32mc:\\Users\\matth\\OneDrive - University of Waterloo\\Documents\\Python Files\\Environments\\RNN_Dropout_VENV\\Lib\\site-packages\\torch\\nn\\modules\\module.py:1739\u001b[39m, in \u001b[36mModule._wrapped_call_impl\u001b[39m\u001b[34m(self, *args, **kwargs)\u001b[39m\n\u001b[32m   1737\u001b[39m     \u001b[38;5;28;01mreturn\u001b[39;00m \u001b[38;5;28mself\u001b[39m._compiled_call_impl(*args, **kwargs)  \u001b[38;5;66;03m# type: ignore[misc]\u001b[39;00m\n\u001b[32m   1738\u001b[39m \u001b[38;5;28;01melse\u001b[39;00m:\n\u001b[32m-> \u001b[39m\u001b[32m1739\u001b[39m     \u001b[38;5;28;01mreturn\u001b[39;00m \u001b[38;5;28;43mself\u001b[39;49m\u001b[43m.\u001b[49m\u001b[43m_call_impl\u001b[49m\u001b[43m(\u001b[49m\u001b[43m*\u001b[49m\u001b[43margs\u001b[49m\u001b[43m,\u001b[49m\u001b[43m \u001b[49m\u001b[43m*\u001b[49m\u001b[43m*\u001b[49m\u001b[43mkwargs\u001b[49m\u001b[43m)\u001b[49m\n",
      "\u001b[36mFile \u001b[39m\u001b[32mc:\\Users\\matth\\OneDrive - University of Waterloo\\Documents\\Python Files\\Environments\\RNN_Dropout_VENV\\Lib\\site-packages\\torch\\nn\\modules\\module.py:1750\u001b[39m, in \u001b[36mModule._call_impl\u001b[39m\u001b[34m(self, *args, **kwargs)\u001b[39m\n\u001b[32m   1745\u001b[39m \u001b[38;5;66;03m# If we don't have any hooks, we want to skip the rest of the logic in\u001b[39;00m\n\u001b[32m   1746\u001b[39m \u001b[38;5;66;03m# this function, and just call forward.\u001b[39;00m\n\u001b[32m   1747\u001b[39m \u001b[38;5;28;01mif\u001b[39;00m \u001b[38;5;129;01mnot\u001b[39;00m (\u001b[38;5;28mself\u001b[39m._backward_hooks \u001b[38;5;129;01mor\u001b[39;00m \u001b[38;5;28mself\u001b[39m._backward_pre_hooks \u001b[38;5;129;01mor\u001b[39;00m \u001b[38;5;28mself\u001b[39m._forward_hooks \u001b[38;5;129;01mor\u001b[39;00m \u001b[38;5;28mself\u001b[39m._forward_pre_hooks\n\u001b[32m   1748\u001b[39m         \u001b[38;5;129;01mor\u001b[39;00m _global_backward_pre_hooks \u001b[38;5;129;01mor\u001b[39;00m _global_backward_hooks\n\u001b[32m   1749\u001b[39m         \u001b[38;5;129;01mor\u001b[39;00m _global_forward_hooks \u001b[38;5;129;01mor\u001b[39;00m _global_forward_pre_hooks):\n\u001b[32m-> \u001b[39m\u001b[32m1750\u001b[39m     \u001b[38;5;28;01mreturn\u001b[39;00m \u001b[43mforward_call\u001b[49m\u001b[43m(\u001b[49m\u001b[43m*\u001b[49m\u001b[43margs\u001b[49m\u001b[43m,\u001b[49m\u001b[43m \u001b[49m\u001b[43m*\u001b[49m\u001b[43m*\u001b[49m\u001b[43mkwargs\u001b[49m\u001b[43m)\u001b[49m\n\u001b[32m   1752\u001b[39m result = \u001b[38;5;28;01mNone\u001b[39;00m\n\u001b[32m   1753\u001b[39m called_always_called_hooks = \u001b[38;5;28mset\u001b[39m()\n",
      "\u001b[36mCell\u001b[39m\u001b[36m \u001b[39m\u001b[32mIn[306]\u001b[39m\u001b[32m, line 17\u001b[39m, in \u001b[36mLSTMModel.forward\u001b[39m\u001b[34m(self, x, hidden_states)\u001b[39m\n\u001b[32m     16\u001b[39m \u001b[38;5;28;01mdef\u001b[39;00m\u001b[38;5;250m \u001b[39m\u001b[34mforward\u001b[39m(\u001b[38;5;28mself\u001b[39m, x, hidden_states):\n\u001b[32m---> \u001b[39m\u001b[32m17\u001b[39m     x = \u001b[38;5;28;43mself\u001b[39;49m\u001b[43m.\u001b[49m\u001b[43membedding\u001b[49m\u001b[43m(\u001b[49m\u001b[43mx\u001b[49m\u001b[43m)\u001b[49m\n\u001b[32m     18\u001b[39m     next_hidden_states = []\n\u001b[32m     19\u001b[39m     \u001b[38;5;28;01mfor\u001b[39;00m i, cell \u001b[38;5;129;01min\u001b[39;00m \u001b[38;5;28menumerate\u001b[39m(\u001b[38;5;28mself\u001b[39m.lstm_cells):\n",
      "\u001b[36mFile \u001b[39m\u001b[32mc:\\Users\\matth\\OneDrive - University of Waterloo\\Documents\\Python Files\\Environments\\RNN_Dropout_VENV\\Lib\\site-packages\\torch\\nn\\modules\\module.py:1739\u001b[39m, in \u001b[36mModule._wrapped_call_impl\u001b[39m\u001b[34m(self, *args, **kwargs)\u001b[39m\n\u001b[32m   1737\u001b[39m     \u001b[38;5;28;01mreturn\u001b[39;00m \u001b[38;5;28mself\u001b[39m._compiled_call_impl(*args, **kwargs)  \u001b[38;5;66;03m# type: ignore[misc]\u001b[39;00m\n\u001b[32m   1738\u001b[39m \u001b[38;5;28;01melse\u001b[39;00m:\n\u001b[32m-> \u001b[39m\u001b[32m1739\u001b[39m     \u001b[38;5;28;01mreturn\u001b[39;00m \u001b[38;5;28;43mself\u001b[39;49m\u001b[43m.\u001b[49m\u001b[43m_call_impl\u001b[49m\u001b[43m(\u001b[49m\u001b[43m*\u001b[49m\u001b[43margs\u001b[49m\u001b[43m,\u001b[49m\u001b[43m \u001b[49m\u001b[43m*\u001b[49m\u001b[43m*\u001b[49m\u001b[43mkwargs\u001b[49m\u001b[43m)\u001b[49m\n",
      "\u001b[36mFile \u001b[39m\u001b[32mc:\\Users\\matth\\OneDrive - University of Waterloo\\Documents\\Python Files\\Environments\\RNN_Dropout_VENV\\Lib\\site-packages\\torch\\nn\\modules\\module.py:1750\u001b[39m, in \u001b[36mModule._call_impl\u001b[39m\u001b[34m(self, *args, **kwargs)\u001b[39m\n\u001b[32m   1745\u001b[39m \u001b[38;5;66;03m# If we don't have any hooks, we want to skip the rest of the logic in\u001b[39;00m\n\u001b[32m   1746\u001b[39m \u001b[38;5;66;03m# this function, and just call forward.\u001b[39;00m\n\u001b[32m   1747\u001b[39m \u001b[38;5;28;01mif\u001b[39;00m \u001b[38;5;129;01mnot\u001b[39;00m (\u001b[38;5;28mself\u001b[39m._backward_hooks \u001b[38;5;129;01mor\u001b[39;00m \u001b[38;5;28mself\u001b[39m._backward_pre_hooks \u001b[38;5;129;01mor\u001b[39;00m \u001b[38;5;28mself\u001b[39m._forward_hooks \u001b[38;5;129;01mor\u001b[39;00m \u001b[38;5;28mself\u001b[39m._forward_pre_hooks\n\u001b[32m   1748\u001b[39m         \u001b[38;5;129;01mor\u001b[39;00m _global_backward_pre_hooks \u001b[38;5;129;01mor\u001b[39;00m _global_backward_hooks\n\u001b[32m   1749\u001b[39m         \u001b[38;5;129;01mor\u001b[39;00m _global_forward_hooks \u001b[38;5;129;01mor\u001b[39;00m _global_forward_pre_hooks):\n\u001b[32m-> \u001b[39m\u001b[32m1750\u001b[39m     \u001b[38;5;28;01mreturn\u001b[39;00m \u001b[43mforward_call\u001b[49m\u001b[43m(\u001b[49m\u001b[43m*\u001b[49m\u001b[43margs\u001b[49m\u001b[43m,\u001b[49m\u001b[43m \u001b[49m\u001b[43m*\u001b[49m\u001b[43m*\u001b[49m\u001b[43mkwargs\u001b[49m\u001b[43m)\u001b[49m\n\u001b[32m   1752\u001b[39m result = \u001b[38;5;28;01mNone\u001b[39;00m\n\u001b[32m   1753\u001b[39m called_always_called_hooks = \u001b[38;5;28mset\u001b[39m()\n",
      "\u001b[36mFile \u001b[39m\u001b[32mc:\\Users\\matth\\OneDrive - University of Waterloo\\Documents\\Python Files\\Environments\\RNN_Dropout_VENV\\Lib\\site-packages\\torch\\nn\\modules\\sparse.py:190\u001b[39m, in \u001b[36mEmbedding.forward\u001b[39m\u001b[34m(self, input)\u001b[39m\n\u001b[32m    189\u001b[39m \u001b[38;5;28;01mdef\u001b[39;00m\u001b[38;5;250m \u001b[39m\u001b[34mforward\u001b[39m(\u001b[38;5;28mself\u001b[39m, \u001b[38;5;28minput\u001b[39m: Tensor) -> Tensor:\n\u001b[32m--> \u001b[39m\u001b[32m190\u001b[39m     \u001b[38;5;28;01mreturn\u001b[39;00m \u001b[43mF\u001b[49m\u001b[43m.\u001b[49m\u001b[43membedding\u001b[49m\u001b[43m(\u001b[49m\n\u001b[32m    191\u001b[39m \u001b[43m        \u001b[49m\u001b[38;5;28;43minput\u001b[39;49m\u001b[43m,\u001b[49m\n\u001b[32m    192\u001b[39m \u001b[43m        \u001b[49m\u001b[38;5;28;43mself\u001b[39;49m\u001b[43m.\u001b[49m\u001b[43mweight\u001b[49m\u001b[43m,\u001b[49m\n\u001b[32m    193\u001b[39m \u001b[43m        \u001b[49m\u001b[38;5;28;43mself\u001b[39;49m\u001b[43m.\u001b[49m\u001b[43mpadding_idx\u001b[49m\u001b[43m,\u001b[49m\n\u001b[32m    194\u001b[39m \u001b[43m        \u001b[49m\u001b[38;5;28;43mself\u001b[39;49m\u001b[43m.\u001b[49m\u001b[43mmax_norm\u001b[49m\u001b[43m,\u001b[49m\n\u001b[32m    195\u001b[39m \u001b[43m        \u001b[49m\u001b[38;5;28;43mself\u001b[39;49m\u001b[43m.\u001b[49m\u001b[43mnorm_type\u001b[49m\u001b[43m,\u001b[49m\n\u001b[32m    196\u001b[39m \u001b[43m        \u001b[49m\u001b[38;5;28;43mself\u001b[39;49m\u001b[43m.\u001b[49m\u001b[43mscale_grad_by_freq\u001b[49m\u001b[43m,\u001b[49m\n\u001b[32m    197\u001b[39m \u001b[43m        \u001b[49m\u001b[38;5;28;43mself\u001b[39;49m\u001b[43m.\u001b[49m\u001b[43msparse\u001b[49m\u001b[43m,\u001b[49m\n\u001b[32m    198\u001b[39m \u001b[43m    \u001b[49m\u001b[43m)\u001b[49m\n",
      "\u001b[36mFile \u001b[39m\u001b[32mc:\\Users\\matth\\OneDrive - University of Waterloo\\Documents\\Python Files\\Environments\\RNN_Dropout_VENV\\Lib\\site-packages\\torch\\nn\\functional.py:2551\u001b[39m, in \u001b[36membedding\u001b[39m\u001b[34m(input, weight, padding_idx, max_norm, norm_type, scale_grad_by_freq, sparse)\u001b[39m\n\u001b[32m   2545\u001b[39m     \u001b[38;5;66;03m# Note [embedding_renorm set_grad_enabled]\u001b[39;00m\n\u001b[32m   2546\u001b[39m     \u001b[38;5;66;03m# XXX: equivalent to\u001b[39;00m\n\u001b[32m   2547\u001b[39m     \u001b[38;5;66;03m# with torch.no_grad():\u001b[39;00m\n\u001b[32m   2548\u001b[39m     \u001b[38;5;66;03m#   torch.embedding_renorm_\u001b[39;00m\n\u001b[32m   2549\u001b[39m     \u001b[38;5;66;03m# remove once script supports set_grad_enabled\u001b[39;00m\n\u001b[32m   2550\u001b[39m     _no_grad_embedding_renorm_(weight, \u001b[38;5;28minput\u001b[39m, max_norm, norm_type)\n\u001b[32m-> \u001b[39m\u001b[32m2551\u001b[39m \u001b[38;5;28;01mreturn\u001b[39;00m \u001b[43mtorch\u001b[49m\u001b[43m.\u001b[49m\u001b[43membedding\u001b[49m\u001b[43m(\u001b[49m\u001b[43mweight\u001b[49m\u001b[43m,\u001b[49m\u001b[43m \u001b[49m\u001b[38;5;28;43minput\u001b[39;49m\u001b[43m,\u001b[49m\u001b[43m \u001b[49m\u001b[43mpadding_idx\u001b[49m\u001b[43m,\u001b[49m\u001b[43m \u001b[49m\u001b[43mscale_grad_by_freq\u001b[49m\u001b[43m,\u001b[49m\u001b[43m \u001b[49m\u001b[43msparse\u001b[49m\u001b[43m)\u001b[49m\n",
      "\u001b[31mKeyboardInterrupt\u001b[39m: "
     ]
    }
   ],
   "source": [
    "\n",
    "# Training loop\n",
    "model_unregularized, metrics_unregularized_DICT = train(data_train_unregularized, data_valid_unregularized, model_unregularized, metrics_unregularized_DICT, params_unregularized, optimizer_unregularized, device)\n",
    "\n",
    "# Evaluation loop\n",
    "best_model=True\n",
    "model_unregularized, metrics_unregularized_DICT = check_and_load_model(params_unregularized,metrics_unregularized_DICT[\"best_epoch\"],best_model)\n",
    "test_eval_ppl_unregularized, metrics_unregularized_DICT = evaluate(data_test_unregularized, model_unregularized, metrics_unregularized_DICT, params_unregularized, device, best_model)"
   ]
  },
  {
   "cell_type": "code",
   "execution_count": null,
   "metadata": {},
   "outputs": [],
   "source": [
    "# Training loop\n",
    "model_regularized, metrics_regularized_DICT = train(data_train_regularized, data_valid_regularized, model_regularized, metrics_regularized_DICT, params_regularized, optimizer_regularized)\n",
    "\n",
    "# Evaluation loop\n",
    "best_model=True\n",
    "model_regularized, metrics_regularized_DICT = check_and_load_model(params_regularized,metrics_regularized_DICT[\"best_epoch\"],best_model)\n",
    "test_eval_ppl_regularized, metrics_regularized_DICT = evaluate(data_test_regularized, model_regularized, metrics_regularized_DICT, params_regularized, best_model)"
   ]
  },
  {
   "cell_type": "markdown",
   "metadata": {},
   "source": [
    "# 7. Plotting Results"
   ]
  },
  {
   "cell_type": "code",
   "execution_count": null,
   "metadata": {},
   "outputs": [],
   "source": [
    "#Visualize the train and validation loss\n",
    "def plot_train_valid(params,metrics_DICT):\n",
    "    plt.figure();\n",
    "    plt.plot(metrics_DICT['epoch_list'],metrics_DICT['train_loss_list'], label=f'Train PPL', color='blue', linestyle='--', marker='o');\n",
    "    plt.plot(metrics_DICT['epoch_list'],metrics_DICT['val_loss_list'], label=f'Validation PPL', color='green', linestyle='-', marker='x');\n",
    "    plt.title(f'{params[\"model_name\"]} Training and Validation PPL');\n",
    "    plt.xlabel('Epochs');\n",
    "    plt.ylabel('Loss');\n",
    "    plt.legend();\n",
    "    plt.grid();\n",
    "    plt.xlim(0,max(metrics_DICT['epoch_list'])+1);\n",
    "    return"
   ]
  },
  {
   "cell_type": "code",
   "execution_count": null,
   "metadata": {},
   "outputs": [],
   "source": [
    "plot_train_valid(params_unregularized,metrics_unregularized_DICT)"
   ]
  },
  {
   "cell_type": "code",
   "execution_count": null,
   "metadata": {},
   "outputs": [],
   "source": [
    "plot_train_valid(params_regularized,metrics_regularized_DICT)"
   ]
  }
 ],
 "metadata": {
  "kernelspec": {
   "display_name": "RNN_Dropout_VENV",
   "language": "python",
   "name": "python3"
  },
  "language_info": {
   "codemirror_mode": {
    "name": "ipython",
    "version": 3
   },
   "file_extension": ".py",
   "mimetype": "text/x-python",
   "name": "python",
   "nbconvert_exporter": "python",
   "pygments_lexer": "ipython3",
   "version": "3.11.9"
  }
 },
 "nbformat": 4,
 "nbformat_minor": 2
}
