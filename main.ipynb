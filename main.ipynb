{
 "cells": [
  {
   "cell_type": "markdown",
   "metadata": {},
   "source": [
    "# 1. Importing Libraries"
   ]
  },
  {
   "cell_type": "code",
   "execution_count": 61,
   "metadata": {},
   "outputs": [],
   "source": [
    "import torch\n",
    "import torch.nn as nn\n",
    "import torch.optim as optim\n",
    "import numpy as np\n",
    "from collections import OrderedDict\n",
    "import os\n",
    "import math\n",
    "import re\n",
    "import io"
   ]
  },
  {
   "cell_type": "markdown",
   "metadata": {},
   "source": [
    "# 2. Define Variable Initializations"
   ]
  },
  {
   "cell_type": "code",
   "execution_count": 62,
   "metadata": {},
   "outputs": [],
   "source": [
    "# Set random seed\n",
    "torch.manual_seed(1234)\n",
    "if torch.cuda.is_available():\n",
    "    torch.cuda.manual_seed(1234)\n",
    "\n",
    "device = torch.device(\"cuda\" if torch.cuda.is_available() else \"cpu\")\n",
    "\n",
    "# Hyperparameters\n",
    "params = {\n",
    "    \"batch_size\": 20,\n",
    "    \"seq_length\": 20,\n",
    "    \"layers\": 2,\n",
    "    \"decay\": 2,\n",
    "    \"rnn_size\": 200,\n",
    "    \"dropout\": 0.0,\n",
    "    \"init_weight\": 0.1,\n",
    "    \"lr\": 1.0,\n",
    "    \"vocab_size\": 10000,\n",
    "    \"max_epoch\": 4,\n",
    "    \"max_max_epoch\": 13,\n",
    "    \"max_grad_norm\": 5,\n",
    "}"
   ]
  },
  {
   "cell_type": "markdown",
   "metadata": {},
   "source": [
    "# 3. Extract and Transform Data"
   ]
  },
  {
   "cell_type": "code",
   "execution_count": 63,
   "metadata": {},
   "outputs": [],
   "source": [
    "ptb_path = \"./data/\"\n",
    "\n",
    "vocab_idx = 0\n",
    "vocab_map = {}"
   ]
  },
  {
   "cell_type": "code",
   "execution_count": 64,
   "metadata": {},
   "outputs": [],
   "source": [
    "def tokenize(text):\n",
    "    \"\"\" Mimic Lua's stringx.split() behavior. \"\"\"\n",
    "    return re.findall(r\"\\S+\", text)  # Split by whitespace but keep everything else intact.\n",
    "\n",
    "def load_data(fname):\n",
    "    global vocab_idx\n",
    "    \n",
    "    print(f\"\\n[Loading Data] File: {fname}\")\n",
    "    \n",
    "    # Read file and replace newlines with <eos>\n",
    "    with open(fname, 'r', encoding='utf-8') as f:\n",
    "        data = f.read()\n",
    "    \n",
    "    data = data.replace('\\n', '<eos>')  # Match Lua behavior\n",
    "    data = data.split()  # Equivalent to stringx.split in Lua\n",
    "            \n",
    "    x = torch.zeros(len(data), dtype=torch.long)\n",
    "    \n",
    "    for i in range(len(data)):\n",
    "        if data[i] not in vocab_map:\n",
    "            vocab_map[data[i]] = vocab_idx\n",
    "            vocab_idx += 1\n",
    "        x[i] = vocab_map[data[i]]\n",
    "    return x\n",
    "\n",
    "def replicate(x_inp, batch_size):\n",
    "    \"\"\" Replicates and shifts data exactly like Lua \"\"\"\n",
    "    s = x_inp.size(0)\n",
    "    x = torch.zeros((s // batch_size, batch_size), dtype=torch.long)\n",
    "\n",
    "    for i in range(batch_size):\n",
    "        start = round(i * s / batch_size)  # Mimic Lua rounding\n",
    "        finish = start + x.size(0)\n",
    "        x[:, i] = x_inp[start:finish]\n",
    "    return x\n",
    "\n",
    "def traindataset(batch_size):\n",
    "    x = load_data(os.path.join(ptb_path, \"ptb.train.txt\"))\n",
    "    x = replicate(x, batch_size)\n",
    "    return x\n",
    "\n",
    "def testdataset(batch_size):\n",
    "    x = load_data(os.path.join(ptb_path, \"ptb.test.txt\"))\n",
    "    x = x.view(-1, 1).expand(-1, batch_size).clone()\n",
    "    return x\n",
    "\n",
    "def validdataset(batch_size):\n",
    "    x = load_data(os.path.join(ptb_path, \"ptb.valid.txt\"))\n",
    "    x = replicate(x, batch_size)\n",
    "    return x\n",
    "\n",
    "datasets = {\n",
    "    \"traindataset\": traindataset,\n",
    "    \"validdataset\": validdataset,\n",
    "    \"testdataset\": testdataset\n",
    "}"
   ]
  },
  {
   "cell_type": "code",
   "execution_count": 65,
   "metadata": {},
   "outputs": [
    {
     "name": "stdout",
     "output_type": "stream",
     "text": [
      "\n",
      "[Loading Data] File: ./data/ptb.train.txt\n",
      "\n",
      "[Loading Data] File: ./data/ptb.valid.txt\n",
      "\n",
      "[Loading Data] File: ./data/ptb.test.txt\n"
     ]
    }
   ],
   "source": [
    "# Call dataset functions\n",
    "\n",
    "data_train = traindataset(params[\"batch_size\"])\n",
    "data_valid = validdataset(params[\"batch_size\"])\n",
    "data_test = testdataset(params[\"batch_size\"])"
   ]
  },
  {
   "cell_type": "markdown",
   "metadata": {},
   "source": [
    "# 4. LSTM Cell Class "
   ]
  },
  {
   "cell_type": "code",
   "execution_count": 66,
   "metadata": {},
   "outputs": [],
   "source": [
    "# LSTM Cell implementation\n",
    "class LSTMCell(nn.Module):\n",
    "    def __init__(self, input_size, hidden_size):\n",
    "        super(LSTMCell, self).__init__()\n",
    "        self.W = nn.Linear(input_size, 4*hidden_size)\n",
    "        self.U = nn.Linear(hidden_size, 4*hidden_size)\n",
    "    \n",
    "    def forward(self, x, prev_c, prev_h):\n",
    "        gates = self.W(x) + self.U(prev_h)\n",
    "        i, f, o, g = gates.chunk(4, dim=-1)\n",
    "        i, f, o = torch.sigmoid(i), torch.sigmoid(f), torch.sigmoid(o)\n",
    "        g = torch.tanh(g)\n",
    "        next_c = f * prev_c + i * g\n",
    "        next_h = o * torch.tanh(next_c)\n",
    "        return next_c, next_h"
   ]
  },
  {
   "cell_type": "markdown",
   "metadata": {},
   "source": [
    "# 5. LSTM Model"
   ]
  },
  {
   "cell_type": "code",
   "execution_count": 67,
   "metadata": {},
   "outputs": [],
   "source": [
    "# LSTM Model\n",
    "class LSTMModel(nn.Module):\n",
    "    def __init__(self, params):\n",
    "        super(LSTMModel, self).__init__()\n",
    "        self.embedding = nn.Embedding(params[\"vocab_size\"], params[\"rnn_size\"])\n",
    "        self.lstm_cells = nn.ModuleList([\n",
    "            LSTMCell(params[\"rnn_size\"], params[\"rnn_size\"]) for _ in range(params[\"layers\"])\n",
    "        ])\n",
    "        self.fc = nn.Linear(params[\"rnn_size\"], params[\"vocab_size\"])\n",
    "        self.dropout = nn.Dropout(params[\"dropout\"])\n",
    "        self.init_weights()\n",
    "\n",
    "    def init_weights(self):\n",
    "        for param in self.parameters():\n",
    "            param.data.uniform_(-params[\"init_weight\"], params[\"init_weight\"])\n",
    "\n",
    "    def forward(self, x, hidden_states):\n",
    "        x = self.embedding(x)\n",
    "        next_hidden_states = []\n",
    "        for i, cell in enumerate(self.lstm_cells):\n",
    "            prev_c, prev_h = hidden_states[i]\n",
    "            next_c, next_h = cell(x, prev_c, prev_h)\n",
    "            x = next_h  # Input for next layer\n",
    "            next_hidden_states.append((next_c, next_h))\n",
    "        x = self.dropout(x)\n",
    "        x = self.fc(x)\n",
    "        return torch.log_softmax(x, dim=-1), next_hidden_states\n",
    "\n",
    "    def init_hidden(self, batch_size):\n",
    "        return [(torch.zeros(batch_size, params[\"rnn_size\"]).to(device),\n",
    "                 torch.zeros(batch_size, params[\"rnn_size\"]).to(device))\n",
    "                for _ in range(params[\"layers\"])]"
   ]
  },
  {
   "cell_type": "code",
   "execution_count": 68,
   "metadata": {},
   "outputs": [],
   "source": [
    "# Initialize model\n",
    "model = LSTMModel(params).to(device)\n",
    "criterion = nn.NLLLoss()\n",
    "optimizer = optim.SGD(model.parameters(), lr=params[\"lr\"])"
   ]
  },
  {
   "cell_type": "markdown",
   "metadata": {},
   "source": [
    "# 6. Train and Evaluate Model"
   ]
  },
  {
   "cell_type": "code",
   "execution_count": 69,
   "metadata": {},
   "outputs": [],
   "source": [
    "def fp(data, hidden_states):\n",
    "    model.train()\n",
    "    x = data[:-1]\n",
    "    y = data[1:]\n",
    "    x, y = x.to(device), y.to(device)\n",
    "    output, hidden_states = model(x, hidden_states)\n",
    "    loss = criterion(output.view(-1, params[\"vocab_size\"]), y.view(-1))\n",
    "    return loss, hidden_states\n",
    "\n",
    "def bp(loss):\n",
    "    optimizer.zero_grad()\n",
    "    loss.backward()\n",
    "    torch.nn.utils.clip_grad_norm_(model.parameters(), params[\"max_grad_norm\"])\n",
    "    optimizer.step()\n",
    "    import gc\n",
    "    gc.collect()\n",
    "\n",
    "def run_epoch(data):\n",
    "    hidden_states = model.init_hidden(params[\"batch_size\"])\n",
    "    total_loss = 0\n",
    "    num_batches = max(1, data.size(0) // params[\"seq_length\"] - 1)\n",
    "    for batch in range(num_batches):\n",
    "        x = data[batch * params[\"seq_length\"]:(batch + 1) * params[\"seq_length\"]]\n",
    "        y = data[batch * params[\"seq_length\"] + 1:(batch + 1) * params[\"seq_length\"] + 1]\n",
    "        loss, hidden_states = fp(x, hidden_states)\n",
    "        bp(loss)\n",
    "        total_loss += loss.item()\n",
    "        hidden_states = [(c.detach(), h.detach()) for (c, h) in hidden_states]\n",
    "    return torch.exp(torch.tensor(total_loss / num_batches))\n",
    "\n",
    "def evaluate(data):\n",
    "    model.eval()\n",
    "    hidden_states = model.init_hidden(params[\"batch_size\"])\n",
    "    total_loss = 0\n",
    "    num_batches = max(1, data.size(0) // params[\"seq_length\"] - 1)\n",
    "    with torch.no_grad():\n",
    "        for batch in range(num_batches):\n",
    "            x = data[batch * params[\"seq_length\"]:(batch + 1) * params[\"seq_length\"]]\n",
    "            y = data[batch * params[\"seq_length\"] + 1:(batch + 1) * params[\"seq_length\"] + 1]\n",
    "            loss, hidden_states = fp(x, hidden_states)\n",
    "            total_loss += loss.item()\n",
    "            hidden_states = [(c.detach(), h.detach()) for (c, h) in hidden_states]\n",
    "    return torch.exp(torch.tensor(total_loss / num_batches))"
   ]
  },
  {
   "cell_type": "code",
   "execution_count": null,
   "metadata": {},
   "outputs": [
    {
     "name": "stdout",
     "output_type": "stream",
     "text": [
      "Epoch 1, Train PPL: 698.44, Valid PPL: 535.17\n",
      "Epoch 2, Train PPL: 436.04, Valid PPL: 406.21\n"
     ]
    }
   ],
   "source": [
    "# Training loop\n",
    "for epoch in range(params[\"max_max_epoch\"]):\n",
    "    train_ppl = run_epoch(data_train)\n",
    "    valid_ppl = evaluate(data_valid)\n",
    "    print(f\"Epoch {epoch+1}, Train PPL: {train_ppl:.2f}, Valid PPL: {valid_ppl:.2f}\")\n",
    "    if epoch > params[\"max_epoch\"]:\n",
    "        params[\"lr\"] /= params[\"decay\"]\n",
    "\n",
    "# Test evaluation\n",
    "test_ppl = evaluate(data_test)\n",
    "print(f\"Test PPL: {test_ppl:.2f}\")"
   ]
  }
 ],
 "metadata": {
  "kernelspec": {
   "display_name": "RNN_Dropout_VENV",
   "language": "python",
   "name": "python3"
  },
  "language_info": {
   "codemirror_mode": {
    "name": "ipython",
    "version": 3
   },
   "file_extension": ".py",
   "mimetype": "text/x-python",
   "name": "python",
   "nbconvert_exporter": "python",
   "pygments_lexer": "ipython3",
   "version": "3.11.9"
  }
 },
 "nbformat": 4,
 "nbformat_minor": 2
}
